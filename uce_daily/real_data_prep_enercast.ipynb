{
 "cells": [
  {
   "cell_type": "code",
   "execution_count": 1,
   "metadata": {},
   "outputs": [],
   "source": [
    "import os\n",
    "import pandas as pd\n",
    "import datetime as dt\n",
    "import time\n",
    "import calendar\n",
    "import numpy as np\n",
    "from statistics import mean\n",
    "\n",
    "from uce_resources import get_site_id, get_mms_data, get_applied_forecast, get_prices, get_green_tariff\n",
    "from uce_resources import make_results"
   ]
  },
  {
   "cell_type": "code",
   "execution_count": 2,
   "metadata": {},
   "outputs": [
    {
     "name": "stdout",
     "output_type": "stream",
     "text": [
      "{'Vasylivka': None}\n"
     ]
    }
   ],
   "source": [
    "from settings.sites import ceg as sites_list\n",
    "\n",
    "target_year = 2022\n",
    "target_month = 1\n",
    "forecasts_types = ['real', 'naive', 'zero']\n",
    "\n",
    "target_folder = 'data/enercast_real_data/'.format(target_year, target_month)\n",
    "if not os.path.exists(target_folder):\n",
    "    os.makedirs(target_folder)\n",
    "\n",
    "sites_list = ['Vasylivka']\n",
    "sites_data = dict.fromkeys(sites_list)\n",
    "print(sites_data)"
   ]
  },
  {
   "cell_type": "code",
   "execution_count": 3,
   "metadata": {},
   "outputs": [
    {
     "name": "stderr",
     "output_type": "stream",
     "text": [
      "C:\\Users\\dmytro\\AppData\\Local\\Temp\\ipykernel_23508\\3375350544.py:7: SAWarning: Did not recognize type 'point' of column 'location'\n",
      "  metadata.reflect(bind=engine)\n"
     ]
    }
   ],
   "source": [
    "from sqlalchemy import create_engine, MetaData\n",
    "from sqlalchemy.pool import NullPool\n",
    "from settings.db import DO_URL\n",
    "\n",
    "engine = create_engine(DO_URL, poolclass=NullPool)\n",
    "metadata = MetaData()\n",
    "metadata.reflect(bind=engine)"
   ]
  },
  {
   "cell_type": "code",
   "execution_count": 4,
   "metadata": {},
   "outputs": [
    {
     "name": "stdout",
     "output_type": "stream",
     "text": [
      "--------------------------------------------------\n",
      "Vasylivka\n",
      "                     yield [kWh]\n",
      "2021-12-31 22:30:00         -140\n",
      "2021-12-31 23:30:00         -135\n",
      "2022-01-01 00:30:00         -135\n",
      "2022-01-01 01:30:00         -133\n",
      "2022-01-01 02:30:00         -139\n",
      "...                          ...\n",
      "2022-01-31 17:30:00         -133\n",
      "2022-01-31 18:30:00         -131\n",
      "2022-01-31 19:30:00         -137\n",
      "2022-01-31 20:30:00         -138\n",
      "2022-01-31 21:30:00         -143\n",
      "\n",
      "[744 rows x 1 columns]\n"
     ]
    }
   ],
   "source": [
    "with engine.connect() as connection:\n",
    "        \n",
    "    for site in sites_data.keys():\n",
    "        start = time.time()\n",
    "        print('-'*50)\n",
    "        print(site)\n",
    "        site_data = dict()\n",
    "        site_data['site'] = site\n",
    "        site_data['site_id'], site_data['legal_entity'] = get_site_id(site, connection, \n",
    "                                                                      metadata.tables['sites'],\n",
    "                                                                      include_legal_entity_id=True)\n",
    "        \n",
    "        mms_data, site_data['mms_version'] = get_mms_data(site_data['site_id'], \n",
    "                                                          target_year, target_month, \n",
    "                                                          connection, metadata.tables['mms_data'], include_prev=False)\n",
    "        \n",
    "        print(mms_data)"
   ]
  },
  {
   "cell_type": "code",
   "execution_count": null,
   "metadata": {},
   "outputs": [],
   "source": []
  }
 ],
 "metadata": {
  "interpreter": {
   "hash": "a6dd8836d127917c5dabc39bdf7e43817871ec0bc4a542a3d13d62efcce73dfc"
  },
  "kernelspec": {
   "display_name": "Python 3.8.12 ('uce_daily')",
   "language": "python",
   "name": "python3"
  },
  "language_info": {
   "codemirror_mode": {
    "name": "ipython",
    "version": 3
   },
   "file_extension": ".py",
   "mimetype": "text/x-python",
   "name": "python",
   "nbconvert_exporter": "python",
   "pygments_lexer": "ipython3",
   "version": "3.8.12"
  },
  "orig_nbformat": 4
 },
 "nbformat": 4,
 "nbformat_minor": 2
}
