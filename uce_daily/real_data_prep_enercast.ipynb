{
 "cells": [
  {
   "cell_type": "code",
   "execution_count": 25,
   "metadata": {},
   "outputs": [],
   "source": [
    "import os\n",
    "import datetime as dt\n",
    "import time\n",
    "import pytz\n",
    "\n",
    "from uce_resources import get_site_id, get_mms_data"
   ]
  },
  {
   "cell_type": "code",
   "execution_count": 78,
   "metadata": {},
   "outputs": [
    {
     "name": "stdout",
     "output_type": "stream",
     "text": [
      "{'Vasylivka': None}\n"
     ]
    }
   ],
   "source": [
    "from settings.sites import ceg as sites_list\n",
    "\n",
    "target_years = [2021]\n",
    "target_months = [1, 2, 3, 4, 5, 6, 7, 8, 9, 10, 11, 12]\n",
    "\n",
    "target_folder = 'data/enercast_real_data/'\n",
    "if not os.path.exists(target_folder):\n",
    "    os.makedirs(target_folder)\n",
    "\n",
    "sites_list = ['Vasylivka']\n",
    "sites_data = dict.fromkeys(sites_list)\n",
    "print(sites_data)"
   ]
  },
  {
   "cell_type": "code",
   "execution_count": 79,
   "metadata": {},
   "outputs": [
    {
     "name": "stderr",
     "output_type": "stream",
     "text": [
      "C:\\Users\\n.kozelets\\AppData\\Local\\Temp\\ipykernel_4092\\3375350544.py:7: SAWarning: Did not recognize type 'point' of column 'location'\n",
      "  metadata.reflect(bind=engine)\n"
     ]
    }
   ],
   "source": [
    "from sqlalchemy import create_engine, MetaData\n",
    "from sqlalchemy.pool import NullPool\n",
    "from settings.db import DO_URL\n",
    "\n",
    "engine = create_engine(DO_URL, poolclass=NullPool)\n",
    "metadata = MetaData()\n",
    "metadata.reflect(bind=engine)"
   ]
  },
  {
   "cell_type": "code",
   "execution_count": 80,
   "metadata": {},
   "outputs": [
    {
     "name": "stdout",
     "output_type": "stream",
     "text": [
      "--------------------------------------------------\n",
      "Vasylivka\n",
      "Data for Vasylivka: 2021 1 prepared!\n",
      "Data for Vasylivka: 2021 2 prepared!\n"
     ]
    },
    {
     "name": "stderr",
     "output_type": "stream",
     "text": [
      "C:\\Users\\n.kozelets\\AppData\\Local\\Temp\\ipykernel_4092\\1145055068.py:27: FutureWarning: The frame.append method is deprecated and will be removed from pandas in a future version. Use pandas.concat instead.\n",
      "  mms=mms.append(mms_data)\n",
      "C:\\Users\\n.kozelets\\AppData\\Local\\Temp\\ipykernel_4092\\1145055068.py:27: FutureWarning: The frame.append method is deprecated and will be removed from pandas in a future version. Use pandas.concat instead.\n",
      "  mms=mms.append(mms_data)\n"
     ]
    },
    {
     "name": "stdout",
     "output_type": "stream",
     "text": [
      "Data for Vasylivka: 2021 3 prepared!\n",
      "Data for Vasylivka: 2021 4 prepared!\n"
     ]
    },
    {
     "name": "stderr",
     "output_type": "stream",
     "text": [
      "C:\\Users\\n.kozelets\\AppData\\Local\\Temp\\ipykernel_4092\\1145055068.py:27: FutureWarning: The frame.append method is deprecated and will be removed from pandas in a future version. Use pandas.concat instead.\n",
      "  mms=mms.append(mms_data)\n",
      "C:\\Users\\n.kozelets\\AppData\\Local\\Temp\\ipykernel_4092\\1145055068.py:27: FutureWarning: The frame.append method is deprecated and will be removed from pandas in a future version. Use pandas.concat instead.\n",
      "  mms=mms.append(mms_data)\n"
     ]
    },
    {
     "name": "stdout",
     "output_type": "stream",
     "text": [
      "Data for Vasylivka: 2021 5 prepared!\n",
      "Data for Vasylivka: 2021 6 prepared!\n"
     ]
    },
    {
     "name": "stderr",
     "output_type": "stream",
     "text": [
      "C:\\Users\\n.kozelets\\AppData\\Local\\Temp\\ipykernel_4092\\1145055068.py:27: FutureWarning: The frame.append method is deprecated and will be removed from pandas in a future version. Use pandas.concat instead.\n",
      "  mms=mms.append(mms_data)\n",
      "C:\\Users\\n.kozelets\\AppData\\Local\\Temp\\ipykernel_4092\\1145055068.py:27: FutureWarning: The frame.append method is deprecated and will be removed from pandas in a future version. Use pandas.concat instead.\n",
      "  mms=mms.append(mms_data)\n"
     ]
    },
    {
     "name": "stdout",
     "output_type": "stream",
     "text": [
      "Data for Vasylivka: 2021 7 prepared!\n",
      "Data for Vasylivka: 2021 8 prepared!\n"
     ]
    },
    {
     "name": "stderr",
     "output_type": "stream",
     "text": [
      "C:\\Users\\n.kozelets\\AppData\\Local\\Temp\\ipykernel_4092\\1145055068.py:27: FutureWarning: The frame.append method is deprecated and will be removed from pandas in a future version. Use pandas.concat instead.\n",
      "  mms=mms.append(mms_data)\n",
      "C:\\Users\\n.kozelets\\AppData\\Local\\Temp\\ipykernel_4092\\1145055068.py:27: FutureWarning: The frame.append method is deprecated and will be removed from pandas in a future version. Use pandas.concat instead.\n",
      "  mms=mms.append(mms_data)\n"
     ]
    },
    {
     "name": "stdout",
     "output_type": "stream",
     "text": [
      "Data for Vasylivka: 2021 9 prepared!\n",
      "Data for Vasylivka: 2021 10 prepared!\n"
     ]
    },
    {
     "name": "stderr",
     "output_type": "stream",
     "text": [
      "C:\\Users\\n.kozelets\\AppData\\Local\\Temp\\ipykernel_4092\\1145055068.py:27: FutureWarning: The frame.append method is deprecated and will be removed from pandas in a future version. Use pandas.concat instead.\n",
      "  mms=mms.append(mms_data)\n",
      "C:\\Users\\n.kozelets\\AppData\\Local\\Temp\\ipykernel_4092\\1145055068.py:27: FutureWarning: The frame.append method is deprecated and will be removed from pandas in a future version. Use pandas.concat instead.\n",
      "  mms=mms.append(mms_data)\n"
     ]
    },
    {
     "name": "stdout",
     "output_type": "stream",
     "text": [
      "Data for Vasylivka: 2021 11 prepared!\n",
      "Data for Vasylivka: 2021 12 prepared!\n"
     ]
    },
    {
     "name": "stderr",
     "output_type": "stream",
     "text": [
      "C:\\Users\\n.kozelets\\AppData\\Local\\Temp\\ipykernel_4092\\1145055068.py:27: FutureWarning: The frame.append method is deprecated and will be removed from pandas in a future version. Use pandas.concat instead.\n",
      "  mms=mms.append(mms_data)\n",
      "C:\\Users\\n.kozelets\\AppData\\Local\\Temp\\ipykernel_4092\\1145055068.py:27: FutureWarning: The frame.append method is deprecated and will be removed from pandas in a future version. Use pandas.concat instead.\n",
      "  mms=mms.append(mms_data)\n"
     ]
    }
   ],
   "source": [
    "with engine.connect() as connection:\n",
    "        \n",
    "    for site in sites_data.keys():\n",
    "        start = time.time()\n",
    "        print('-'*50)\n",
    "        print(site)\n",
    "        site_data = dict()\n",
    "        site_data['site'] = site\n",
    "        site_data['site_id'], site_data['legal_entity'] = get_site_id(site, connection, \n",
    "                                                                      metadata.tables['sites'],\n",
    "                                                                      include_legal_entity_id=True)\n",
    "        mms=pd.DataFrame()\n",
    "        for target_year in target_years:\n",
    "            for target_month in target_months:\n",
    "\n",
    "                mms_data, site_data['mms_version'] = get_mms_data(site_data['site_id'], \n",
    "                                                                target_year, target_month, \n",
    "                                                                connection, metadata.tables['mms_data'], include_prev=False)\n",
    "                mms_data.index.name = 'DateTime'\n",
    "                mms_data.columns = ['PowerWatt']\n",
    "                mms_data['PowerWatt'] = mms_data['PowerWatt'] * 1000\n",
    "                mms_data.index = mms_data.index - dt.timedelta(minutes=30)\n",
    "                mms_data.index = mms_data.index.tz_localize(pytz.utc)\n",
    "                mms_data.index = mms_data.index.strftime(\"%Y-%m-%d %H:%M%z\")\n",
    "                # mms_data.to_csv(target_folder + f'{site}_{target_year}_{target_month}_real_data_for_enercast.csv')\n",
    "                print(f'Data for {site}: {target_year} {target_month} prepared!')\n",
    "                mms=mms.append(mms_data)\n",
    "                \n",
    "        \n",
    "        mms.to_csv(target_folder + f'{site}_{target_year}.csv')\n",
    "\n"
   ]
  },
  {
   "cell_type": "code",
   "execution_count": null,
   "metadata": {},
   "outputs": [],
   "source": []
  }
 ],
 "metadata": {
  "interpreter": {
   "hash": "a6dd8836d127917c5dabc39bdf7e43817871ec0bc4a542a3d13d62efcce73dfc"
  },
  "kernelspec": {
   "display_name": "Python 3.8.12 ('uce_daily')",
   "language": "python",
   "name": "python3"
  },
  "language_info": {
   "codemirror_mode": {
    "name": "ipython",
    "version": 3
   },
   "file_extension": ".py",
   "mimetype": "text/x-python",
   "name": "python",
   "nbconvert_exporter": "python",
   "pygments_lexer": "ipython3",
   "version": "3.8.12"
  },
  "orig_nbformat": 4
 },
 "nbformat": 4,
 "nbformat_minor": 2
}
