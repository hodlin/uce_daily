{
 "cells": [
  {
   "cell_type": "code",
   "execution_count": 1,
   "metadata": {},
   "outputs": [],
   "source": [
    "import os\n",
    "import pandas as pd\n",
    "import datetime as dt\n",
    "import pytz\n",
    "import time\n",
    "import numpy as np\n",
    "from statistics import mean\n",
    "\n",
    "from uce_resources import get_applied_forecast"
   ]
  },
  {
   "cell_type": "code",
   "execution_count": 2,
   "metadata": {},
   "outputs": [],
   "source": [
    "\n",
    "sites_list = ['Pohrebyshche', 'Bilashky', \n",
    "                'Bar', 'Balky', 'Verkhivka', 'Kopaihorod', 'Stanislavchyk', 'Sharhorod_1', 'Hnatkiv', 'Porohy',\n",
    "                'Hlybochok_1', 'Hlybochok_2.1', 'Hlybochok_2.2', 'Cherniatka','Chechelnyk_1', 'Chechelnyk_2',\n",
    "                'Komyshany_1', 'Komyshany_2', 'Bilozerka', 'Myroliubivka', 'Kyselivka',\n",
    "                'Oleshky_1', 'Oleshky_2', 'Poniativka', 'Kostohryzove', \n",
    "                'Veliton', 'Velihen', \n",
    "                'Mykolaivka', 'Rubanivka', 'Mala_Lepetykha', 'Kachkarivka', \n",
    "                'Liubymivka', 'Vasylivka',\n",
    "                'Dibrovka', 'Yelanets_1', 'Yelanets_2', \n",
    "                'Afanasiivka', 'Novokondakove', 'Bazaltova', 'Inhulets_1', 'Inhulets_2', 'Bereznehuvate', \n",
    "                'Teplychna', \n",
    "                'Balivka', 'Solone', 'Stepnohirsk', \n",
    "                'Kulevcha']\n",
    "\n",
    "today = dt.datetime.today()#-dt.timedelta(1)\n",
    "\n",
    "target_year = today.year\n",
    "target_month = today.month\n",
    "target_day = today.day\n",
    "forecasts_types = ['real']\n",
    "\n",
    "target_folder = 'data/forecasts/factor/'\n",
    "if not os.path.exists(target_folder):\n",
    "    os.makedirs(target_folder)\n",
    "\n",
    "# sites_list = ['Pohrebyshche', 'Kulevcha']\n"
   ]
  },
  {
   "attachments": {},
   "cell_type": "markdown",
   "metadata": {},
   "source": [
    "# Data preparation section"
   ]
  },
  {
   "cell_type": "code",
   "execution_count": 3,
   "metadata": {},
   "outputs": [
    {
     "name": "stderr",
     "output_type": "stream",
     "text": [
      "C:\\Users\\n.kozelets\\AppData\\Local\\Temp\\ipykernel_3152\\1008880204.py:8: SAWarning: Did not recognize type 'point' of column 'location'\n",
      "  metadata_source.reflect(bind=engine_source)\n"
     ]
    }
   ],
   "source": [
    "from sqlalchemy import create_engine, MetaData\n",
    "from sqlalchemy.pool import NullPool\n",
    "from sqlalchemy.sql import select, and_\n",
    "from settings.db import DO_URL\n",
    "\n",
    "engine_source = create_engine(DO_URL, poolclass=NullPool)\n",
    "metadata_source = MetaData()\n",
    "metadata_source.reflect(bind=engine_source)\n",
    "\n",
    "\n",
    "from settings.db import WAREHOSUE_URL\n",
    "\n",
    "engine_warehouse = create_engine(WAREHOSUE_URL, poolclass=NullPool)"
   ]
  },
  {
   "cell_type": "code",
   "execution_count": 4,
   "metadata": {},
   "outputs": [
    {
     "name": "stdout",
     "output_type": "stream",
     "text": [
      "Pohrebyshche: ок! Processing took 1.13 seconds\n",
      "Bilashky: ок! Processing took 0.51 seconds\n",
      "Bar: ок! Processing took 0.46 seconds\n",
      "Balky: ок! Processing took 0.46 seconds\n",
      "Verkhivka: ок! Processing took 0.45 seconds\n",
      "Kopaihorod: ок! Processing took 0.57 seconds\n",
      "Stanislavchyk: ок! Processing took 0.47 seconds\n",
      "Sharhorod_1: ок! Processing took 0.47 seconds\n",
      "Hnatkiv: ок! Processing took 0.46 seconds\n",
      "Porohy: ок! Processing took 0.49 seconds\n",
      "Hlybochok_1: ок! Processing took 0.47 seconds\n",
      "Hlybochok_2.1: ок! Processing took 0.45 seconds\n",
      "Hlybochok_2.2: ок! Processing took 0.44 seconds\n",
      "Cherniatka: ок! Processing took 0.45 seconds\n",
      "Chechelnyk_1: ок! Processing took 0.45 seconds\n",
      "Chechelnyk_2: ок! Processing took 0.45 seconds\n",
      "Komyshany_1: ок! Processing took 0.45 seconds\n",
      "Komyshany_2: ок! Processing took 0.47 seconds\n",
      "Bilozerka: ок! Processing took 0.49 seconds\n",
      "Myroliubivka: ок! Processing took 0.45 seconds\n",
      "Kyselivka: ок! Processing took 0.44 seconds\n",
      "Oleshky_1: ок! Processing took 0.44 seconds\n",
      "Oleshky_2: ок! Processing took 0.43 seconds\n",
      "Poniativka: ок! Processing took 0.46 seconds\n",
      "Kostohryzove: ок! Processing took 0.45 seconds\n",
      "Veliton: ок! Processing took 0.54 seconds\n",
      "Velihen: ок! Processing took 0.45 seconds\n",
      "Mykolaivka: ок! Processing took 0.47 seconds\n",
      "Rubanivka: ок! Processing took 0.48 seconds\n",
      "Mala_Lepetykha: ок! Processing took 0.48 seconds\n",
      "Kachkarivka: ок! Processing took 0.51 seconds\n",
      "Liubymivka: ок! Processing took 0.44 seconds\n",
      "Vasylivka: ок! Processing took 0.47 seconds\n",
      "Dibrovka: ок! Processing took 0.47 seconds\n",
      "Yelanets_1: ок! Processing took 0.46 seconds\n",
      "Yelanets_2: ок! Processing took 0.51 seconds\n",
      "Afanasiivka: ок! Processing took 0.46 seconds\n",
      "Novokondakove: ок! Processing took 0.47 seconds\n",
      "Bazaltova: ок! Processing took 0.46 seconds\n",
      "Inhulets_1: ок! Processing took 0.46 seconds\n",
      "Inhulets_2: ок! Processing took 0.48 seconds\n",
      "Bereznehuvate: ок! Processing took 0.46 seconds\n",
      "Teplychna: ок! Processing took 0.44 seconds\n",
      "Balivka: ок! Processing took 0.47 seconds\n",
      "Solone: ок! Processing took 0.5 seconds\n",
      "Stepnohirsk: ок! Processing took 0.46 seconds\n",
      "Kulevcha: ок! Processing took 0.45 seconds\n"
     ]
    }
   ],
   "source": [
    "sites_data = list()\n",
    "\n",
    "with engine_source.connect() as connection:\n",
    "        \n",
    "    for site in sites_list:\n",
    "        start = time.time()\n",
    "        site_data = dict()\n",
    "\n",
    "        sites_table = metadata_source.tables['sites']\n",
    "        list_to_select = [\n",
    "            sites_table.c.id]\n",
    "        \n",
    "        query = select(list_to_select).where(sites_table.c.displayable_name == site)\n",
    "        site_id_response = connection.execute(query).fetchall()[0]\n",
    "\n",
    "        site_id = site_id_response[0]\n",
    "        \n",
    "        with engine_warehouse.connect() as connection_warehouse:\n",
    "            query = f\"\"\"\n",
    "            SELECT grid_capacity from dim_site\n",
    "            WHERE site_name = '{site}';\n",
    "            \"\"\"\n",
    "            response = connection_warehouse.execute(query).fetchall()[0]\n",
    "            \n",
    "\n",
    "        first_date=today-dt.timedelta(1)\n",
    "        last_date=today\n",
    "\n",
    "        applied_forecast = get_applied_forecast(\n",
    "            site_id, \n",
    "            first_date,\n",
    "            last_date,\n",
    "            connection=connection, \n",
    "            db_table=metadata_source.tables['forecasting_data']\n",
    "        )\n",
    "        applied_forecast.columns = ['applied_forecast']\n",
    "\n",
    "        raw_forecast = get_applied_forecast(\n",
    "            site_id, \n",
    "            first_date,\n",
    "            last_date,\n",
    "            connection=connection, \n",
    "            db_table=metadata_source.tables['forecasting_data'],\n",
    "            forecast_type='forecast_applied_raw'\n",
    "        )\n",
    "        raw_forecast.columns = ['raw_forecast']\n",
    "\n",
    "        forecast_data = pd.concat([applied_forecast, raw_forecast,], axis=1, join='outer').reindex(columns=['raw_forecast', 'applied_forecast'])\n",
    "        forecast_data[f\"{site}\"] = round(forecast_data['applied_forecast'] / forecast_data['raw_forecast'], 2)\n",
    "        forecast_data = forecast_data.drop(columns=[\"raw_forecast\", \"applied_forecast\"])\n",
    "        # print(forecast_data)\n",
    "\n",
    "        sites_data.append(forecast_data)\n",
    "        merged_data = pd.concat(sites_data, axis=1)\n",
    "\n",
    "        end = time.time()\n",
    "\n",
    "        print('{}: ок! Processing took {} seconds'.format(site, round(end - start, 2)))\n",
    "\n",
    "    merged_data.index=merged_data.index.tz_localize(pytz.utc).tz_convert(pytz.timezone('europe/kiev')).strftime('%Y-%m-%d %H:%M')\n",
    "    # print(merged_data)  \n",
    "    merged_data.to_excel(target_folder + f'forecasting_koef_{target_year}_{target_month}_{target_day}.xlsx')\n",
    "        \n"
   ]
  }
 ],
 "metadata": {
  "kernelspec": {
   "display_name": "uce_daily",
   "language": "python",
   "name": "python3"
  },
  "language_info": {
   "codemirror_mode": {
    "name": "ipython",
    "version": 3
   },
   "file_extension": ".py",
   "mimetype": "text/x-python",
   "name": "python",
   "nbconvert_exporter": "python",
   "pygments_lexer": "ipython3",
   "version": "3.8.12"
  },
  "vscode": {
   "interpreter": {
    "hash": "63b635d65d60b1811ede0cf7a8833095bfcf77b57869dea97c846496b0c0212b"
   }
  }
 },
 "nbformat": 4,
 "nbformat_minor": 2
}
