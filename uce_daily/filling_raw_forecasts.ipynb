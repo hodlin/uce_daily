{
 "cells": [
  {
   "cell_type": "code",
   "execution_count": null,
   "metadata": {},
   "outputs": [],
   "source": [
    "import pandas as pd\n",
    "import datetime as dt\n",
    "import time\n",
    "import calendar\n",
    "\n",
    "from uce_resources import get_site_id, get_forecast, put_forecast"
   ]
  },
  {
   "cell_type": "code",
   "execution_count": null,
   "metadata": {},
   "outputs": [],
   "source": [
    "from settings.sites import ceg as sites_list\n",
    "\n",
    "target_year = 2023\n",
    "target_month = 1\n",
    "forecasts_types = ['real', 'naive', 'zero']\n",
    "\n",
    "# sites_list = ['Balivka']\n",
    "sites_data = dict.fromkeys(sites_list)\n",
    "print(sites_data)"
   ]
  },
  {
   "cell_type": "code",
   "execution_count": null,
   "metadata": {},
   "outputs": [],
   "source": [
    "from sqlalchemy import create_engine, MetaData\n",
    "from sqlalchemy.pool import NullPool\n",
    "from settings.db import DO_URL\n",
    "\n",
    "engine = create_engine(DO_URL, poolclass=NullPool)\n",
    "metadata = MetaData()\n",
    "metadata.reflect(bind=engine)"
   ]
  },
  {
   "cell_type": "code",
   "execution_count": null,
   "metadata": {},
   "outputs": [],
   "source": [
    "first_date = dt.date(target_year, target_month, 1)\n",
    "last_date = dt.date(target_year, target_month, calendar.monthrange(target_year, target_month)[1])\n",
    "# first_date = dt.date(target_year, target_month, 1)\n",
    "# last_date = dt.date(target_year, target_month, 4)\n",
    "\n",
    "target_dates = pd.date_range(start=first_date, end=last_date, freq='D').to_pydatetime()"
   ]
  },
  {
   "cell_type": "code",
   "execution_count": null,
   "metadata": {},
   "outputs": [],
   "source": [
    "\n",
    "with engine.connect() as connection:\n",
    "    for date in target_dates:    \n",
    "        for site in sites_data.keys():\n",
    "            start = time.time()\n",
    "            print('-'*50)\n",
    "            print(site)\n",
    "            site_id, legal_entity = get_site_id(site, connection, \n",
    "                                                metadata.tables['sites'],\n",
    "                                                include_legal_entity_id=True)\n",
    "            restored_forecast = get_forecast(site_id, [date], 'restored', connection, metadata)\n",
    "            update_time = dt.datetime.utcnow()\n",
    "\n",
    "            time_indexes = restored_forecast.index.to_pydatetime()\n",
    "            data_values = [int(value * 1000) for value in restored_forecast.tolist()]\n",
    "            hours = range(1, len(data_values) + 1)\n",
    "\n",
    "            put_forecast(\n",
    "                site_id,\n",
    "                \"forecast_applied_raw\",\n",
    "                date.date(),\n",
    "                hours,\n",
    "                time_indexes,\n",
    "                data_values,\n",
    "                update_time,\n",
    "                connection=connection\n",
    "            )\n",
    "\n",
    "            print(f'Raw forecast is writen: {site} | {date}')\n",
    "\n"
   ]
  }
 ],
 "metadata": {
  "kernelspec": {
   "display_name": "uce_daily",
   "language": "python",
   "name": "python3"
  },
  "language_info": {
   "codemirror_mode": {
    "name": "ipython",
    "version": 3
   },
   "file_extension": ".py",
   "mimetype": "text/x-python",
   "name": "python",
   "nbconvert_exporter": "python",
   "pygments_lexer": "ipython3",
   "version": "3.8.12"
  },
  "vscode": {
   "interpreter": {
    "hash": "086c78819d29cde2722290ef7b1822e29db9962e5a12d827023861b18bf338dd"
   }
  }
 },
 "nbformat": 4,
 "nbformat_minor": 2
}
