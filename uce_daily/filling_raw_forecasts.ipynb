{
 "cells": [
  {
   "cell_type": "code",
   "execution_count": 1,
   "metadata": {},
   "outputs": [],
   "source": [
    "import pandas as pd\n",
    "import datetime as dt\n",
    "import time\n",
    "import calendar\n",
    "\n",
    "from uce_resources import get_site_id, get_forecast, put_forecast"
   ]
  },
  {
   "cell_type": "code",
   "execution_count": 2,
   "metadata": {},
   "outputs": [
    {
     "name": "stdout",
     "output_type": "stream",
     "text": [
      "{'Bar': None, 'Verkhivka': None, 'Balky': None, 'Sharhorod_1': None, 'Chechelnyk_1': None, 'Chechelnyk_2': None, 'Stanislavchyk': None, 'Kopaihorod': None, 'Cherniatka': None, 'Hlybochok_1': None, 'Hlybochok_2.1': None, 'Hlybochok_2.2': None, 'Pohrebyshche': None, 'Bilashky': None, 'Porohy': None, 'Hnatkiv': None, 'Myroliubivka': None, 'Kyselivka': None, 'Poniativka': None, 'Kostohryzove': None, 'Bilozerka': None, 'Mykolaivka': None, 'Komyshany_1': None, 'Komyshany_2': None, 'Velihen': None, 'Veliton': None, 'Mala_Lepetykha': None, 'Rubanivka': None, 'Oleshky_2': None, 'Oleshky_1': None, 'Liubymivka': None, 'Kachkarivka': None, 'Vasylivka': None, 'Afanasiivka': None, 'Novokondakove': None, 'Bazaltova': None, 'Yelanets_1': None, 'Yelanets_2': None, 'Inhulets_1': None, 'Inhulets_2': None, 'Bereznehuvate': None, 'Teplychna': None, 'Solone': None, 'Stepnohirsk': None, 'Balivka': None, 'Dibrovka': None, 'Kulevcha': None}\n"
     ]
    }
   ],
   "source": [
    "from settings.sites import ceg as sites_list\n",
    "\n",
    "target_year = 2023\n",
    "target_month = 2\n",
    "forecasts_types = ['real', 'naive', 'zero']\n",
    "\n",
    "# sites_list = ['Balivka']\n",
    "sites_data = dict.fromkeys(sites_list)\n",
    "print(sites_data)"
   ]
  },
  {
   "cell_type": "code",
   "execution_count": 3,
   "metadata": {},
   "outputs": [
    {
     "name": "stderr",
     "output_type": "stream",
     "text": [
      "C:\\Users\\dmytro\\AppData\\Local\\Temp\\ipykernel_8900\\3375350544.py:7: SAWarning: Did not recognize type 'point' of column 'location'\n",
      "  metadata.reflect(bind=engine)\n"
     ]
    }
   ],
   "source": [
    "from sqlalchemy import create_engine, MetaData\n",
    "from sqlalchemy.pool import NullPool\n",
    "from settings.db import DO_URL\n",
    "\n",
    "engine = create_engine(DO_URL, poolclass=NullPool)\n",
    "metadata = MetaData()\n",
    "metadata.reflect(bind=engine)"
   ]
  },
  {
   "cell_type": "code",
   "execution_count": 4,
   "metadata": {},
   "outputs": [],
   "source": [
    "# first_date = dt.date(target_year, target_month, 1)\n",
    "# last_date = dt.date(target_year, target_month, calendar.monthrange(target_year, target_month)[1])\n",
    "first_date = dt.date(target_year, target_month, 1)\n",
    "last_date = dt.date(target_year, target_month, 4)\n",
    "\n",
    "target_dates = pd.date_range(start=first_date, end=last_date, freq='D').to_pydatetime()"
   ]
  },
  {
   "cell_type": "code",
   "execution_count": 5,
   "metadata": {},
   "outputs": [
    {
     "name": "stdout",
     "output_type": "stream",
     "text": [
      "--------------------------------------------------\n",
      "Bar\n",
      "restored\n",
      "2023-02-01\n",
      "SolarGIS_hourly_29_Bar_20230131_20230214_202301312001.csv\n",
      "2023-02-01 03:10:00\n",
      "SolarGIS_hourly_29_Bar_20230131_20230214_202301312001.csv\n",
      "2023-02-01 04:10:00\n",
      "SolarGIS_hourly_29_Bar_20230201_20230215_202302010401.csv\n",
      "2023-02-01 05:10:00\n",
      "SolarGIS_hourly_29_Bar_20230201_20230215_202302010501.csv\n",
      "2023-02-01 06:10:00\n",
      "SolarGIS_hourly_29_Bar_20230201_20230215_202302010601.csv\n",
      "2023-02-01 07:10:00\n",
      "SolarGIS_hourly_29_Bar_20230201_20230215_202302010701.csv\n",
      "2023-02-01 08:10:00\n",
      "SolarGIS_hourly_29_Bar_20230201_20230215_202302010801.csv\n",
      "2023-02-01 09:10:00\n",
      "SolarGIS_hourly_29_Bar_20230201_20230215_202302010901.csv\n",
      "2023-02-01 10:10:00\n",
      "SolarGIS_hourly_29_Bar_20230201_20230215_202302011001.csv\n",
      "2023-02-01 11:10:00\n",
      "SolarGIS_hourly_29_Bar_20230201_20230215_202302011101.csv\n",
      "2023-02-01 12:10:00\n",
      "SolarGIS_hourly_29_Bar_20230201_20230215_202302011201.csv\n",
      "2023-02-01 13:10:00\n",
      "SolarGIS_hourly_29_Bar_20230201_20230215_202302011301.csv\n",
      "2023-02-01 14:10:00\n",
      "SolarGIS_hourly_29_Bar_20230201_20230215_202302011401.csv\n",
      "Raw forecast is writen: Bar | 2023-02-01\n",
      "--------------------------------------------------\n",
      "Verkhivka\n",
      "restored\n"
     ]
    },
    {
     "ename": "AttributeError",
     "evalue": "'datetime.date' object has no attribute 'date'",
     "output_type": "error",
     "traceback": [
      "\u001b[1;31m---------------------------------------------------------------------------\u001b[0m",
      "\u001b[1;31mAttributeError\u001b[0m                            Traceback (most recent call last)",
      "\u001b[1;32mc:\\Users\\dmytro\\Google Drive (mr.diomin@gmail.com)\\Projects\\Clean Energy Group\\Analytics\\Conda\\scripts\\uce_daily\\uce_daily\\filling_raw_forecasts.ipynb Cell 5\u001b[0m in \u001b[0;36m<module>\u001b[1;34m\u001b[0m\n\u001b[0;32m      <a href='vscode-notebook-cell:/c%3A/Users/dmytro/Google%20Drive%20%28mr.diomin%40gmail.com%29/Projects/Clean%20Energy%20Group/Analytics/Conda/scripts/uce_daily/uce_daily/filling_raw_forecasts.ipynb#W6sZmlsZQ%3D%3D?line=5'>6</a>\u001b[0m \u001b[39mprint\u001b[39m(site)\n\u001b[0;32m      <a href='vscode-notebook-cell:/c%3A/Users/dmytro/Google%20Drive%20%28mr.diomin%40gmail.com%29/Projects/Clean%20Energy%20Group/Analytics/Conda/scripts/uce_daily/uce_daily/filling_raw_forecasts.ipynb#W6sZmlsZQ%3D%3D?line=6'>7</a>\u001b[0m site_id, legal_entity \u001b[39m=\u001b[39m get_site_id(site, connection, \n\u001b[0;32m      <a href='vscode-notebook-cell:/c%3A/Users/dmytro/Google%20Drive%20%28mr.diomin%40gmail.com%29/Projects/Clean%20Energy%20Group/Analytics/Conda/scripts/uce_daily/uce_daily/filling_raw_forecasts.ipynb#W6sZmlsZQ%3D%3D?line=7'>8</a>\u001b[0m                                     metadata\u001b[39m.\u001b[39mtables[\u001b[39m'\u001b[39m\u001b[39msites\u001b[39m\u001b[39m'\u001b[39m],\n\u001b[0;32m      <a href='vscode-notebook-cell:/c%3A/Users/dmytro/Google%20Drive%20%28mr.diomin%40gmail.com%29/Projects/Clean%20Energy%20Group/Analytics/Conda/scripts/uce_daily/uce_daily/filling_raw_forecasts.ipynb#W6sZmlsZQ%3D%3D?line=8'>9</a>\u001b[0m                                     include_legal_entity_id\u001b[39m=\u001b[39m\u001b[39mTrue\u001b[39;00m)\n\u001b[1;32m---> <a href='vscode-notebook-cell:/c%3A/Users/dmytro/Google%20Drive%20%28mr.diomin%40gmail.com%29/Projects/Clean%20Energy%20Group/Analytics/Conda/scripts/uce_daily/uce_daily/filling_raw_forecasts.ipynb#W6sZmlsZQ%3D%3D?line=9'>10</a>\u001b[0m restored_forecast \u001b[39m=\u001b[39m get_forecast(site_id, [date], \u001b[39m'\u001b[39;49m\u001b[39mrestored\u001b[39;49m\u001b[39m'\u001b[39;49m, connection, metadata)\n\u001b[0;32m     <a href='vscode-notebook-cell:/c%3A/Users/dmytro/Google%20Drive%20%28mr.diomin%40gmail.com%29/Projects/Clean%20Energy%20Group/Analytics/Conda/scripts/uce_daily/uce_daily/filling_raw_forecasts.ipynb#W6sZmlsZQ%3D%3D?line=10'>11</a>\u001b[0m date \u001b[39m=\u001b[39m date\u001b[39m.\u001b[39mdate()\n\u001b[0;32m     <a href='vscode-notebook-cell:/c%3A/Users/dmytro/Google%20Drive%20%28mr.diomin%40gmail.com%29/Projects/Clean%20Energy%20Group/Analytics/Conda/scripts/uce_daily/uce_daily/filling_raw_forecasts.ipynb#W6sZmlsZQ%3D%3D?line=11'>12</a>\u001b[0m update_time \u001b[39m=\u001b[39m dt\u001b[39m.\u001b[39mdatetime\u001b[39m.\u001b[39mutcnow()\n",
      "File \u001b[1;32mc:\\Users\\dmytro\\Google Drive (mr.diomin@gmail.com)\\Projects\\Clean Energy Group\\Analytics\\Conda\\scripts\\uce_daily\\uce_daily\\uce_resources.py:383\u001b[0m, in \u001b[0;36mget_forecast\u001b[1;34m(site_id, dates, type, connection, metadata, timezone, ftp)\u001b[0m\n\u001b[0;32m    381\u001b[0m base_loads \u001b[39m=\u001b[39m get_base_loads(site_id, \u001b[39mmin\u001b[39m(dates), connection, base_loads_table)\n\u001b[0;32m    382\u001b[0m \u001b[39mfor\u001b[39;00m date \u001b[39min\u001b[39;00m dates:\n\u001b[1;32m--> 383\u001b[0m     \u001b[39mprint\u001b[39m(date\u001b[39m.\u001b[39;49mdate())\n\u001b[0;32m    384\u001b[0m     time_index \u001b[39m=\u001b[39m get_time_index(date, timezone\u001b[39m=\u001b[39mtimezone)\n\u001b[0;32m    385\u001b[0m     availabilities \u001b[39m=\u001b[39m get_availability(date, \u001b[39mtype\u001b[39m)\n",
      "\u001b[1;31mAttributeError\u001b[0m: 'datetime.date' object has no attribute 'date'"
     ]
    }
   ],
   "source": [
    "\n",
    "with engine.connect() as connection:\n",
    "    for date in target_dates:    \n",
    "        for site in sites_data.keys():\n",
    "            start = time.time()\n",
    "            print('-'*50)\n",
    "            print(site)\n",
    "            site_id, legal_entity = get_site_id(site, connection, \n",
    "                                                metadata.tables['sites'],\n",
    "                                                include_legal_entity_id=True)\n",
    "            restored_forecast = get_forecast(site_id, [date], 'restored', connection, metadata)\n",
    "            update_time = dt.datetime.utcnow()\n",
    "\n",
    "            time_indexes = restored_forecast.index.to_pydatetime()\n",
    "            data_values = [int(value * 1000) for value in restored_forecast.tolist()]\n",
    "            hours = range(1, len(data_values) + 1)\n",
    "\n",
    "            put_forecast(\n",
    "                site_id,\n",
    "                \"forecast_applied_raw\",\n",
    "                date.date(),\n",
    "                hours,\n",
    "                time_indexes,\n",
    "                data_values,\n",
    "                update_time,\n",
    "                connection=connection\n",
    "            )\n",
    "\n",
    "            print(f'Raw forecast is writen: {site} | {date}')\n",
    "\n"
   ]
  }
 ],
 "metadata": {
  "kernelspec": {
   "display_name": "uce_daily",
   "language": "python",
   "name": "python3"
  },
  "language_info": {
   "codemirror_mode": {
    "name": "ipython",
    "version": 3
   },
   "file_extension": ".py",
   "mimetype": "text/x-python",
   "name": "python",
   "nbconvert_exporter": "python",
   "pygments_lexer": "ipython3",
   "version": "3.8.12"
  },
  "vscode": {
   "interpreter": {
    "hash": "086c78819d29cde2722290ef7b1822e29db9962e5a12d827023861b18bf338dd"
   }
  }
 },
 "nbformat": 4,
 "nbformat_minor": 2
}
