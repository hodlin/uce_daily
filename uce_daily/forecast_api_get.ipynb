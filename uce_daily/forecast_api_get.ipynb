{
 "cells": [
  {
   "cell_type": "code",
   "execution_count": null,
   "metadata": {},
   "outputs": [],
   "source": [
    "import os, io\n",
    "import pytz\n",
    "import urllib, json\n",
    "import datetime as dt\n",
    "import pandas as pd\n",
    "import csv\n",
    "from datetime import date, datetime\n",
    "\n",
    "from sqlalchemy import create_engine, MetaData\n",
    "from sqlalchemy.pool import NullPool\n",
    "from sqlalchemy.sql import select, and_\n",
    "from settings.db import DO_URL\n",
    "from settings.apis import FORECAST_API_SETTINGS\n",
    "\n",
    "\n",
    "engine = create_engine(DO_URL, poolclass=NullPool)\n",
    "metadata = MetaData()\n",
    "metadata.reflect(bind=engine)"
   ]
  },
  {
   "cell_type": "code",
   "execution_count": null,
   "metadata": {},
   "outputs": [],
   "source": [
    "#Select here site to get forecasts for\n",
    "from settings.sites import kherson as sites_list\n",
    "\n",
    "query = f'''SELECT displayable_name, id, w_code FROM sites WHERE displayable_name in ({str(sites_list)[1:-1]})'''\n",
    "print(query)\n",
    "with engine.connect() as connection:\n",
    "    sites = connection.execute(query).fetchall()"
   ]
  },
  {
   "cell_type": "code",
   "execution_count": null,
   "metadata": {},
   "outputs": [],
   "source": [
    "#Set dates interval providing firt_date and last_date\n",
    "\n",
    "first_date = dt.date(2023, 1, 1)\n",
    "last_date = dt.date(2023, 1, 31)"
   ]
  },
  {
   "cell_type": "code",
   "execution_count": null,
   "metadata": {},
   "outputs": [],
   "source": [
    "target_folder = 'data/forecasts/{}_{}/'.format(first_date.strftime('%Y-%m-%d'), last_date.strftime('%Y-%m-%d'))\n",
    "print(target_folder)\n",
    "if not os.path.exists(target_folder):\n",
    "    os.makedirs(target_folder)"
   ]
  },
  {
   "cell_type": "code",
   "execution_count": null,
   "metadata": {},
   "outputs": [],
   "source": [
    "from uce_resources import get_applied_forecast\n",
    "\n",
    "forecasts = dict()\n",
    "\n",
    "with engine.connect() as connection:\n",
    "    for site, site_id, w_code in sites:\n",
    "        forecast = get_applied_forecast(site_id, first_date, last_date, connection, metadata.tables['forecasting_data'])\n",
    "        \n",
    "        forecasts.update({site: forecast})\n",
    "        with pd.ExcelWriter(target_folder + f'{site}_forecast.xlsx', engine=\"openpyxl\") as  writer:\n",
    "            forecasts[site].to_excel(writer, 'results_daily')"
   ]
  },
  {
   "cell_type": "markdown",
   "metadata": {},
   "source": [
    "## UTP Makets"
   ]
  },
  {
   "cell_type": "code",
   "execution_count": null,
   "metadata": {},
   "outputs": [],
   "source": [
    "def get_fake_data_API(site_id, date, connection):\n",
    "    date_str = date.strftime('%Y-%m-%d')\n",
    "    data = get_applied_forecast(site_id, date, date, connection, metadata.tables['forecasting_data'])\n",
    "    forecast = pd.DataFrame(index=range(1, len(data.index) + 1), data=data['forecast [kWh]'].to_list(), columns=[date_str])\n",
    "    forecast['{}'.format(date_str)]\n",
    "    forecast['Generation']=forecast['{}'.format(date_str)]\n",
    "    num = forecast['Generation']._get_numeric_data()\n",
    "    num[num < 0] = 0\n",
    "    generation1 = forecast['Generation'].values.tolist()\n",
    "    forecast['Consumption']=forecast['{}'.format(date_str)]*(-1)\n",
    "    numb = forecast['Consumption']._get_numeric_data()\n",
    "    numb[numb < 0] = 0\n",
    "    consumption = forecast['Consumption']\n",
    "    consumption = forecast['Consumption'].values.tolist()\n",
    "    generation = generation1\n",
    "    consurpation = consumption           \n",
    "    return (generation, consurpation)\n",
    "\n",
    "\n",
    "def create_row_list(sites, date, connection):\n",
    "    row_list = list()\n",
    "    row_list.append(['((//30817', '{}'.format(date.strftime('%m%d')), '38269062', '++'])\n",
    "    for site, site_id, w_code in sites:\n",
    "        row_data = get_fake_data_API(site_id, date, connection)\n",
    "        consumption_list = ['({}_1)'.format(w_code)] + [sum(row_data[1])] + row_data[1] + ['']\n",
    "        row_list.append(consumption_list)        \n",
    "        generation_list = ['({}_2)'.format(w_code)] + [sum(row_data[0])] + row_data[0] + ['']\n",
    "        row_list.append(generation_list)\n",
    "    row_list.append(['==))'])\n",
    "    return row_list\n",
    "\n",
    "enter_date = dt.date(2023, 1, 31)\n",
    "\n",
    "target_folder = 'data/utp_mock-up/'\n",
    "if not os.path.exists(target_folder):\n",
    "    os.makedirs(target_folder)\n",
    "\n",
    "with engine.connect() as connection:\n",
    "    row_list = create_row_list(sites=sites, date=enter_date, connection=connection)\n",
    "\n",
    "with open(target_folder + 'forecast_{}_{}.txt'.format('kherson', enter_date.strftime('%m%d')), 'w', newline='') as file:\n",
    "    writer = csv.writer(file, quoting=csv.QUOTE_NONE, delimiter=':')\n",
    "    writer.writerows(row_list)\n",
    "print('UTP data created!')"
   ]
  }
 ],
 "metadata": {
  "kernelspec": {
   "display_name": "uce_daily",
   "language": "python",
   "name": "python3"
  },
  "language_info": {
   "codemirror_mode": {
    "name": "ipython",
    "version": 3
   },
   "file_extension": ".py",
   "mimetype": "text/x-python",
   "name": "python",
   "nbconvert_exporter": "python",
   "pygments_lexer": "ipython3",
   "version": "3.8.12"
  },
  "orig_nbformat": 4,
  "vscode": {
   "interpreter": {
    "hash": "086c78819d29cde2722290ef7b1822e29db9962e5a12d827023861b18bf338dd"
   }
  }
 },
 "nbformat": 4,
 "nbformat_minor": 2
}
