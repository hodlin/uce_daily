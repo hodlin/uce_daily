{
 "cells": [
  {
   "cell_type": "code",
   "execution_count": null,
   "metadata": {},
   "outputs": [],
   "source": [
    "import os, io\n",
    "import pytz\n",
    "import urllib, json\n",
    "import datetime as dt\n",
    "import pandas as pd\n",
    "import csv\n",
    "from datetime import date, datetime\n",
    "from sqlalchemy import create_engine, MetaData\n",
    "from sqlalchemy.pool import NullPool\n",
    "from sqlalchemy.sql import select, and_\n",
    "from settings.db import WAREHOSUE_URL\n",
    "from settings.apis import FORECAST_API_SETTINGS\n",
    "\n",
    "engine_warehouse = create_engine(WAREHOSUE_URL, poolclass=NullPool)\n",
    "api_base_url = f\"{FORECAST_API_SETTINGS['host']}:{FORECAST_API_SETTINGS['port']}/api/forecast/\"\n",
    "api_headers = {FORECAST_API_SETTINGS['api_key_name']: FORECAST_API_SETTINGS['api_key_value']}"
   ]
  },
  {
   "cell_type": "code",
   "execution_count": null,
   "metadata": {},
   "outputs": [],
   "source": [
    "#Select here site to get forecasts for\n",
    "from settings.sites import kherson as sites_list\n",
    "\n",
    "query = f'''SELECT site_name, w_code FROM dim_site WHERE site_name in ({str(sites_list)[1:-1]})'''\n",
    "print(query)\n",
    "with engine_warehouse.connect() as connection:\n",
    "    sites = dict(connection.execute(query).fetchall())"
   ]
  },
  {
   "cell_type": "code",
   "execution_count": null,
   "metadata": {},
   "outputs": [],
   "source": [
    "#Set here forecast type and dates\n",
    "forecast_type = 'applied/final'\n",
    "\n",
    "dates_list = pd.date_range(start='2022-10-1', end='2022-10-1').to_list()\n"
   ]
  },
  {
   "cell_type": "code",
   "execution_count": null,
   "metadata": {},
   "outputs": [],
   "source": [
    "target_folder = 'data/forecasts/{}_{}/'.format(dates_list[0].strftime('%Y-%m-%d'), dates_list[-1].strftime('%Y-%m-%d'))\n",
    "print(target_folder)\n",
    "if not os.path.exists(target_folder):\n",
    "    os.makedirs(target_folder)"
   ]
  },
  {
   "cell_type": "code",
   "execution_count": null,
   "metadata": {},
   "outputs": [],
   "source": [
    "forecasts = dict()\n",
    "\n",
    "for site, w_code in sites.items():\n",
    "    forecasts.update({site: list()})\n",
    "    for date in dates_list:\n",
    "        date_str = date.strftime('%Y-%m-%d')\n",
    "        api_url = api_base_url + f\"{forecast_type}/{w_code}/{date_str}\"\n",
    "        request = urllib.request.Request(api_url, headers=api_headers, method='GET')\n",
    "        with urllib.request.urlopen(request) as response:\n",
    "            data = json.loads(response.read().decode('utf-8'))['final_forecast']\n",
    "            forecast = pd.DataFrame(index=range(1, len(data['forecast_values']) + 1), data=data['forecast_values'], columns=[date_str])\n",
    "            forecasts[site].append(forecast)\n",
    "    forecasts.update({site: pd.concat(forecasts[site], axis=1)})\n",
    "    with pd.ExcelWriter(target_folder + f'{site}_forecast.xlsx', engine=\"openpyxl\") as  writer:\n",
    "        forecasts[site].to_excel(writer, 'results_daily')"
   ]
  },
  {
   "cell_type": "markdown",
   "metadata": {},
   "source": [
    "## UTP Makets"
   ]
  },
  {
   "cell_type": "code",
   "execution_count": null,
   "metadata": {},
   "outputs": [],
   "source": [
    "def get_fake_data_API(w_code : str, date : date):\n",
    "    date_str = date.strftime('%Y-%m-%d')\n",
    "    api_url = api_base_url + f\"{forecast_type}/{w_code}/{date_str}\"\n",
    "    request = urllib.request.Request(api_url, headers=api_headers, method='GET')\n",
    "    with urllib.request.urlopen(request) as response:\n",
    "        data = json.loads(response.read().decode('utf-8'))['final_forecast']\n",
    "        forecast = pd.DataFrame(index=range(1, len(data['forecast_values']) + 1), data=data['forecast_values'], columns=[date_str])\n",
    "\n",
    "    forecast['{}'.format(date_str)]\n",
    "    forecast['Generation']=forecast['{}'.format(date_str)]\n",
    "    num = forecast['Generation']._get_numeric_data()\n",
    "    num[num < 0] = 0\n",
    "    generation1 = forecast['Generation'].values.tolist()\n",
    "    forecast['Consumption']=forecast['{}'.format(date_str)]*(-1)\n",
    "    numb = forecast['Consumption']._get_numeric_data()\n",
    "    numb[numb < 0] = 0\n",
    "    consumption = forecast['Consumption']\n",
    "    consumption = forecast['Consumption'].values.tolist()\n",
    "    generation = generation1\n",
    "    consurpation = consumption           \n",
    "    return (generation, consurpation)\n",
    "\n",
    "\n",
    "def create_row_list(sites : list, date : date):\n",
    "    row_list = list()\n",
    "    row_list.append(['((//30817', '{}'.format(date.strftime('%m%d')), '38269062', '++'])\n",
    "    for code in sites:\n",
    "        row_data = get_fake_data_API(w_code= code, date= date)\n",
    "        consurption_list = ['({}_1)'.format(code)] + [sum(row_data[1])] + row_data[1] + ['']\n",
    "        row_list.append(consurption_list)        \n",
    "        generation_list = ['({}_2)'.format(code)] + [sum(row_data[0])] + row_data[0] + ['']\n",
    "        row_list.append(generation_list)\n",
    "    row_list.append(['==))'])\n",
    "\n",
    "\n",
    "    return row_list\n",
    "enter_date = dt.date(2023, 1, 30)\n",
    "\n",
    "row_list = create_row_list(sites = sites.values(), date= enter_date)\n",
    "\n",
    "with open('./data/utp_mock-up/forecast_{}_{}.txt'.format('kherson', enter_date.strftime('%m%d')), 'w', newline='') as file:\n",
    "    writer = csv.writer(file, quoting=csv.QUOTE_NONE, delimiter=':')\n",
    "    writer.writerows(row_list)"
   ]
  }
 ],
 "metadata": {
  "kernelspec": {
   "display_name": "Python 3.7.11 ('uce_daily')",
   "language": "python",
   "name": "python3"
  },
  "language_info": {
   "codemirror_mode": {
    "name": "ipython",
    "version": 3
   },
   "file_extension": ".py",
   "mimetype": "text/x-python",
   "name": "python",
   "nbconvert_exporter": "python",
   "pygments_lexer": "ipython3",
   "version": "3.7.11"
  },
  "orig_nbformat": 4,
  "vscode": {
   "interpreter": {
    "hash": "9f6094ec2d56ebdaae3d9c77f7ab32436394f8c6f1a90f5df9f6a393f513a0f8"
   }
  }
 },
 "nbformat": 4,
 "nbformat_minor": 2
}
