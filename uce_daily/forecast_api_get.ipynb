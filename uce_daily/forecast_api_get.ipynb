{
 "cells": [
  {
   "cell_type": "code",
   "execution_count": null,
   "metadata": {},
   "outputs": [],
   "source": [
    "import os, io\n",
    "import pytz\n",
    "import urllib, json\n",
    "import datetime as dt\n",
    "import pandas as pd\n",
    "from sqlalchemy import create_engine, MetaData\n",
    "from sqlalchemy.pool import NullPool\n",
    "from sqlalchemy.sql import select, and_\n",
    "from settings.db import WAREHOSUE_URL\n",
    "from settings.apis import FORECAST_API_SETTINGS\n",
    "\n",
    "engine_warehouse = create_engine(WAREHOSUE_URL, poolclass=NullPool)\n",
    "api_base_url = f\"{FORECAST_API_SETTINGS['host']}:{FORECAST_API_SETTINGS['port']}/api/forecast/\"\n",
    "api_headers = {FORECAST_API_SETTINGS['api_key_name']: FORECAST_API_SETTINGS['api_key_value']}"
   ]
  },
  {
   "cell_type": "code",
   "execution_count": null,
   "metadata": {},
   "outputs": [],
   "source": [
    "#Select here site to get forecasts for\n",
    "from settings.sites import kherson as sites_list\n",
    "\n",
    "query = f'''SELECT site_name, w_code FROM dim_site WHERE site_name in ({str(sites_list)[1:-1]})'''\n",
    "print(query)\n",
    "with engine_warehouse.connect() as connection:\n",
    "    sites = dict(connection.execute(query).fetchall())"
   ]
  },
  {
   "cell_type": "code",
   "execution_count": null,
   "metadata": {},
   "outputs": [],
   "source": [
    "#Set here forecast type and dates\n",
    "forecast_type = 'applied/final'\n",
    "\n",
    "dates_list = pd.date_range(start='2022-05-30', end='2022-05-31').to_list()\n"
   ]
  },
  {
   "cell_type": "code",
   "execution_count": null,
   "metadata": {},
   "outputs": [],
   "source": [
    "target_folder = 'data/forecasts/{}_{}/'.format(dates_list[0].strftime('%Y-%m-%d'), dates_list[-1].strftime('%Y-%m-%d'))\n",
    "print(target_folder)\n",
    "if not os.path.exists(target_folder):\n",
    "    os.makedirs(target_folder)"
   ]
  },
  {
   "cell_type": "code",
   "execution_count": null,
   "metadata": {},
   "outputs": [],
   "source": [
    "forecasts = dict()\n",
    "\n",
    "for site, w_code in sites.items():\n",
    "    forecasts.update({site: list()})\n",
    "    for date in dates_list:\n",
    "        date_str = date.strftime('%Y-%m-%d')\n",
    "        api_url = api_base_url + f\"{forecast_type}/{w_code}/{date_str}\"\n",
    "        request = urllib.request.Request(api_url, headers=api_headers, method='GET')\n",
    "        with urllib.request.urlopen(request) as response:\n",
    "            data = json.loads(response.read().decode('utf-8'))['final_forecast']\n",
    "            forecast = pd.DataFrame(index=range(1, len(data['forecast_values']) + 1), data=data['forecast_values'], columns=[date_str])\n",
    "            forecasts[site].append(forecast)\n",
    "    forecasts.update({site: pd.concat(forecasts[site], axis=1)})\n",
    "    with pd.ExcelWriter(target_folder + f'{site}_forecast.xlsx', engine=\"openpyxl\") as  writer:\n",
    "        forecasts[site].to_excel(writer, 'results_daily')"
   ]
  },
  {
   "cell_type": "code",
   "execution_count": null,
   "metadata": {},
   "outputs": [],
   "source": []
  }
 ],
 "metadata": {
  "interpreter": {
   "hash": "086c78819d29cde2722290ef7b1822e29db9962e5a12d827023861b18bf338dd"
  },
  "kernelspec": {
   "display_name": "Python 3.8.12 ('uce_daily')",
   "language": "python",
   "name": "python3"
  },
  "language_info": {
   "codemirror_mode": {
    "name": "ipython",
    "version": 3
   },
   "file_extension": ".py",
   "mimetype": "text/x-python",
   "name": "python",
   "nbconvert_exporter": "python",
   "pygments_lexer": "ipython3",
   "version": "3.8.12"
  },
  "orig_nbformat": 4
 },
 "nbformat": 4,
 "nbformat_minor": 2
}
