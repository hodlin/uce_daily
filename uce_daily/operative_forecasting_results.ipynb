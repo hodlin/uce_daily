{
 "cells": [
  {
   "cell_type": "code",
   "execution_count": null,
   "metadata": {},
   "outputs": [],
   "source": [
    "import os\n",
    "import pandas as pd\n",
    "import datetime as dt\n",
    "import time\n",
    "import calendar\n",
    "import numpy as np\n",
    "from statistics import mean\n",
    "\n",
    "from uce_resources import get_site_id, get_mms_data, get_applied_forecast, get_prices, get_green_tariff\n",
    "from uce_resources import make_results"
   ]
  },
  {
   "cell_type": "code",
   "execution_count": null,
   "metadata": {},
   "outputs": [],
   "source": [
    "from settings.sites import ceg as sites_list\n",
    "\n",
    "target_year = 2022\n",
    "target_month = 3\n",
    "forecasts_types = ['real']\n",
    "\n",
    "target_folder = 'data/results/{}-{:0>2}/'.format(target_year, target_month)\n",
    "if not os.path.exists(target_folder):\n",
    "    os.makedirs(target_folder)\n",
    "\n",
    "# sites_list = ['Myroliubivka']"
   ]
  },
  {
   "cell_type": "markdown",
   "metadata": {},
   "source": [
    "# Data preparation section"
   ]
  },
  {
   "cell_type": "code",
   "execution_count": null,
   "metadata": {},
   "outputs": [],
   "source": [
    "from sqlalchemy import create_engine, MetaData\n",
    "from sqlalchemy.pool import NullPool\n",
    "from sqlalchemy.sql import select, and_\n",
    "from settings.db import DO_URL\n",
    "\n",
    "engine = create_engine(DO_URL, poolclass=NullPool)\n",
    "metadata = MetaData()\n",
    "metadata.reflect(bind=engine)"
   ]
  },
  {
   "cell_type": "code",
   "execution_count": null,
   "metadata": {},
   "outputs": [],
   "source": [
    "sites_data = list()\n",
    "\n",
    "with engine.connect() as connection:\n",
    "        \n",
    "    for site in sites_list:\n",
    "        start = time.time()\n",
    "        print('-'*50)\n",
    "        print(site)\n",
    "        site_data = dict()\n",
    "\n",
    "        sites_table = metadata.tables['sites']\n",
    "        list_to_select = [sites_table.c.id, sites_table.c.legal_entity, sites_table.c.location, sites_table.c.region, sites_table.c.cluster]\n",
    "        query = select(list_to_select).where(sites_table.c.displayable_name == site)\n",
    "        site_id_response = connection.execute(query).fetchall()[0]\n",
    "\n",
    "        site_id = site_id_response[0]\n",
    "        legal_entity_id = site_id_response[1]\n",
    "        location = site_id_response[2]\n",
    "        region = site_id_response[3]\n",
    "        cluster = site_id_response[4]\n",
    "\n",
    "        latitude, longitude = map(float, location.replace('(', '').replace(')', '').split(','))\n",
    "        mms_data, mms_version = get_mms_data(site_id, \n",
    "                                             target_year, target_month, \n",
    "                                             connection, metadata.tables['mms_data'], include_prev=True,)\n",
    "        mms_data.columns = ['yield']\n",
    "        # print(mms_data)\n",
    "        print('MMS data | {} version | of | {} records |'.format(mms_version, len(mms_data)))\n",
    "        applied_forecast = get_applied_forecast(site_id, target_year, target_month, \n",
    "                                                connection=connection, db_table=metadata.tables['forecasts_applied'])\n",
    "        applied_forecast.columns = ['forecast']\n",
    "        print('Forecast data of | {} records |'.format(len(applied_forecast)))\n",
    "        #print(applied_forecast)\n",
    "        \n",
    "        site_series = pd.Series(index=mms_data.index, data=site)\n",
    "        latitude_series = pd.Series(index=mms_data.index, data=latitude)\n",
    "        longitude_series = pd.Series(index=mms_data.index, data=longitude)\n",
    "        region_series = pd.Series(index=mms_data.index, data=region)\n",
    "        cluster_series = pd.Series(index=mms_data.index, data=cluster)\n",
    "\n",
    "        site_data = pd.concat([site_series, latitude_series, longitude_series, \n",
    "                               region_series, cluster_series], axis=1, join='inner')\n",
    "        site_data.columns = ['site', 'latitude', 'longitude', 'region', 'cluster', ]                       \n",
    "        site_data['date'] = site_data.index.strftime('%Y-%m-%d')\n",
    "        site_data['hour'] = site_data.index.hour + 1\n",
    "        site_data['datetime'] = site_data.index.strftime('%Y-%m-%dT%H:%M')\n",
    "\n",
    "        site_data = pd.concat([site_data, mms_data, applied_forecast], axis=1, join='inner')\n",
    "        \n",
    "        site_data['error'] = site_data['yield'] - site_data['forecast']\n",
    "        site_data['error_positive'] = site_data['error'].apply(lambda x: x if x >= 0 else 0)\n",
    "        site_data['error_negative'] = site_data['error'].apply(lambda x: x if x < 0 else 0)\n",
    "        site_data['error_abs'] = site_data['error'].apply(abs)\n",
    "        site_data['error_type'] = site_data['error'].apply(lambda x: 'negative' if x < 0 else 'positive')\n",
    "        \n",
    "        print('Data prepared')\n",
    "\n",
    "        # print(site_data)\n",
    "        \n",
    "        sites_data.append(site_data)\n",
    "        end = time.time()\n",
    "\n",
    "        print('Processing took {} seconds'.format(round(end - start, 2)))"
   ]
  },
  {
   "cell_type": "code",
   "execution_count": null,
   "metadata": {},
   "outputs": [],
   "source": [
    "data = pd.concat(sites_data, ignore_index=True)\n",
    "data.to_csv(target_folder + 'mart_operative_forecasting_results.csv', index=False)"
   ]
  },
  {
   "cell_type": "code",
   "execution_count": null,
   "metadata": {},
   "outputs": [],
   "source": [
    "data.loc[data.site == 'Vasylivka']"
   ]
  },
  {
   "cell_type": "code",
   "execution_count": null,
   "metadata": {},
   "outputs": [],
   "source": []
  },
  {
   "cell_type": "code",
   "execution_count": null,
   "metadata": {},
   "outputs": [],
   "source": []
  },
  {
   "cell_type": "markdown",
   "metadata": {},
   "source": [
    "### Daily results"
   ]
  },
  {
   "cell_type": "code",
   "execution_count": null,
   "metadata": {
    "tags": []
   },
   "outputs": [],
   "source": [
    "daily_indexes = list()\n",
    "\n",
    "for day in range(1, calendar.monthrange(target_year, target_month)[-1] + 1):\n",
    "    start = dt.datetime(year=target_year, month=target_month, day=day, hour=0, minute=30)\n",
    "    end = dt.datetime(year=target_year, month=target_month, day=day, hour=23, minute=30)\n",
    "    index_in_kyiv = pd.date_range(start=start, end=end, freq='1H', tz='europe/kiev')\n",
    "    index_in_utc = index_in_kyiv.tz_convert('utc').tz_localize(None)\n",
    "    daily_indexes.append(index_in_utc)\n",
    "\n",
    "print(len(daily_indexes))"
   ]
  },
  {
   "cell_type": "code",
   "execution_count": null,
   "metadata": {},
   "outputs": [],
   "source": [
    "print(daily_indexes[0])"
   ]
  },
  {
   "cell_type": "code",
   "execution_count": null,
   "metadata": {},
   "outputs": [],
   "source": [
    "results_real = pd.DataFrame(columns=columns)\n",
    "results_naive = pd.DataFrame(columns=columns)\n",
    "results_zero = pd.DataFrame(columns=columns)\n",
    "\n",
    "for site in sites_data.keys():\n",
    "    \n",
    "    \n",
    "    for index in daily_indexes:\n",
    "        # print(sites_data[site]['real_forecast_data'])\n",
    "        result_real = make_results(sites_data[site], 'real', prices, index)\n",
    "        #print(result_real)\n",
    "\n",
    "        result_naive = make_results(sites_data[site], 'naive', prices, index)      \n",
    "        #print(result_naive)\n",
    "\n",
    "        result_zero = make_results(sites_data[site], 'zero', prices, index)      \n",
    "        #print(result_zero)\n",
    "\n",
    "        if not result_real is None:\n",
    "            results_real = results_real.append(result_real, ignore_index=True)\n",
    "\n",
    "        if not result_naive is None:\n",
    "            results_naive = results_naive.append(result_naive, ignore_index=True)\n",
    "        \n",
    "        if not result_zero is None:\n",
    "            results_zero = results_zero.append(result_zero, ignore_index=True)\n",
    "\n",
    "    sites_data[site]['results_real'] = results_real\n",
    "    sites_data[site]['results_naive'] = results_naive\n",
    "    sites_data[site]['results_zero'] = results_zero\n",
    "\n",
    "    print(f'{site} - Results daily: Ok!')"
   ]
  },
  {
   "cell_type": "code",
   "execution_count": null,
   "metadata": {},
   "outputs": [],
   "source": [
    "# sites_data['Pohrebyshche']['results_real']"
   ]
  },
  {
   "cell_type": "code",
   "execution_count": null,
   "metadata": {},
   "outputs": [],
   "source": [
    "from uce_resources import save_results, format_excel\n",
    "\n",
    "results_daily = pd.concat([results_real, results_naive, results_zero], axis=0)\n",
    "\n",
    "min_day = results_daily.first_date.min().day\n",
    "max_day = results_daily.last_date.max().day\n",
    "\n",
    "with pd.ExcelWriter(target_folder + 'uce_daily_{}_{}_{}-{}_UAH.xlsx'.format(target_year, target_month, min_day, max_day), engine=\"openpyxl\") as  writer:\n",
    "    results_daily.to_excel(writer, 'results_daily')\n",
    "\n",
    "#  writer.save()\n",
    "# format_excel(writer, results_daily).save()\n",
    "\n",
    "print('Saving results: ok!')\n"
   ]
  },
  {
   "cell_type": "code",
   "execution_count": null,
   "metadata": {},
   "outputs": [],
   "source": []
  }
 ],
 "metadata": {
  "interpreter": {
   "hash": "b3ba2566441a7c06988d0923437866b63cedc61552a5af99d1f4fb67d367b25f"
  },
  "kernelspec": {
   "display_name": "Python 3.8.8 64-bit ('base': conda)",
   "name": "python3"
  },
  "language_info": {
   "codemirror_mode": {
    "name": "ipython",
    "version": 3
   },
   "file_extension": ".py",
   "mimetype": "text/x-python",
   "name": "python",
   "nbconvert_exporter": "python",
   "pygments_lexer": "ipython3",
   "version": "3.8.12"
  }
 },
 "nbformat": 4,
 "nbformat_minor": 2
}
