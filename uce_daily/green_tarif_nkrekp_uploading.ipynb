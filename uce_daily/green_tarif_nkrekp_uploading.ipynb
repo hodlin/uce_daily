{
 "cells": [
  {
   "cell_type": "code",
   "execution_count": null,
   "metadata": {},
   "outputs": [],
   "source": [
    "import os\n",
    "import shutil\n",
    "import pandas as pd\n",
    "import datetime as dt\n",
    "import calendar\n",
    "import numpy as np\n",
    "from sqlalchemy import create_engine, MetaData, desc\n",
    "from sqlalchemy.sql import select, and_, or_, not_\n",
    "from sqlalchemy.pool import NullPool\n",
    "from sqlalchemy.sql import select\n",
    "\n",
    "from settings.db import DO_URL"
   ]
  },
  {
   "cell_type": "code",
   "execution_count": null,
   "metadata": {},
   "outputs": [],
   "source": [
    "def get_site_id(site_name, connection):\n",
    "    print(site_name)\n",
    "    site_id_response = connection.execute('SELECT id FROM public.sites where displayable_name = \\'{0}\\''.format(site_name))\n",
    "    #print(site_name)\n",
    "    #print('SELECT id FROM public.sites where displayable_name = \\'{0}\\''.format(site_name.capitalize()))\n",
    "    #print(list(site_id_response))\n",
    "    site_id = list(site_id_response)[0][0]\n",
    "    return site_id\n",
    "\n",
    "\n",
    "def get_sqlalchemy_table(table_name, connection):\n",
    "    meta_data = MetaData(bind=connection, reflect=True)\n",
    "    table = meta_data.tables[table_name]\n",
    "    return table\n",
    "\n",
    "\n",
    "def get_start_index(table, connection):\n",
    "    start_index = None\n",
    "    max_index_response = connection.execute('SELECT MAX(id) FROM public.{0}'.format(table))\n",
    "    max_index = list(max_index_response)[0][0]\n",
    "    start_index = 0 if max_index is None else int(max_index) + 1\n",
    "    return start_index"
   ]
  },
  {
   "cell_type": "code",
   "execution_count": null,
   "metadata": {
    "tags": []
   },
   "outputs": [],
   "source": [
    "tariff_dir = 'data/green_tariff/'\n",
    "green_tarrif_files =  [file for file in os.listdir(tariff_dir) if os.path.isfile(os.path.join(tariff_dir, file))]\n",
    "if \"desktop.ini\" in green_tarrif_files:\n",
    "    green_tarrif_files.remove('desktop.ini')\n",
    "\n",
    "print(green_tarrif_files)\n",
    "\n",
    "engine = create_engine(DO_URL, poolclass=NullPool)\n",
    "metadata = MetaData()\n",
    "metadata.reflect(bind=engine)"
   ]
  },
  {
   "cell_type": "code",
   "execution_count": null,
   "metadata": {},
   "outputs": [],
   "source": [
    "def quarter_translation(quarter, year):\n",
    "    values = {1: {'first_day': dt.date(year=year, month=1, day=1), 'last_day': dt.date(year=year, month=3, day=31)},\n",
    "              2: {'first_day': dt.date(year=year, month=4, day=1), 'last_day': dt.date(year=year, month=6, day=30)},\n",
    "              3: {'first_day': dt.date(year=year, month=7, day=1), 'last_day': dt.date(year=year, month=9, day=30)},\n",
    "              4: {'first_day': dt.date(year=year, month=10, day=1), 'last_day': dt.date(year=year, month=12, day=31)}}\n",
    "    return values[quarter]"
   ]
  },
  {
   "cell_type": "code",
   "execution_count": null,
   "metadata": {
    "tags": []
   },
   "outputs": [],
   "source": []
  },
  {
   "cell_type": "code",
   "execution_count": null,
   "metadata": {
    "tags": []
   },
   "outputs": [],
   "source": [
    "sheet_name = 'Sheet1'\n",
    "\n",
    "file = green_tarrif_files[0]\n",
    "\n",
    "print(file)\n",
    "\n",
    "quarter = int(file.split('_')[2])\n",
    "year = int(file.split('_')[-1].split('.')[0])\n",
    "\n",
    "data = pd.read_excel(tariff_dir + file, sheet_name=sheet_name, header=0)\n",
    "print(data)\n",
    "data.columns = ['site', 'green_tariff']\n",
    "\n",
    "with engine.connect() as connection:\n",
    "    data['site'] = data['site'].apply(lambda x: get_site_id(x, connection))\n",
    "    availability = quarter_translation(quarter, year)\n",
    "\n",
    "    data['available_from'] = availability['first_day']\n",
    "    data['available_to'] = availability['last_day']\n",
    "\n",
    "\n",
    "    last_index = get_start_index('green_tariffs', connection)\n",
    "\n",
    "data = data.sort_values(by=['site']).reset_index()\n",
    "\n",
    "data['index'] = data.index + last_index + 1\n",
    "\n",
    "print('ok!')\n",
    "print(data)"
   ]
  },
  {
   "cell_type": "code",
   "execution_count": null,
   "metadata": {
    "tags": []
   },
   "outputs": [],
   "source": [
    "import io\n",
    "import psycopg2\n",
    "\n",
    "\n",
    "def connect():\n",
    "    connection = psycopg2.connect(DO_URL)\n",
    "    return connection\n",
    "\n",
    "\n",
    "def translate_data(records):\n",
    "    csv_file_like_object = io.StringIO()\n",
    "    for index, record in records.iterrows():\n",
    "            line = '|'.join(map(str, [record['index'], record['site'], record['available_from'], \n",
    "                             record['available_to'], record['green_tariff']])) + '\\n'\n",
    "            print(line)\n",
    "            #logger.info(len(line.split('|')))\n",
    "            csv_file_like_object.write(line)\n",
    "    csv_file_like_object.seek(0)\n",
    "    return csv_file_like_object\n",
    "\n",
    "\n",
    "def copy_stringio(data_to_write, connection):\n",
    "    try:\n",
    "        with connection.cursor() as cursor:\n",
    "            cursor.copy_from(data_to_write, 'green_tariffs', sep='|')\n",
    "            connection.commit()  \n",
    "    except Exception as e:\n",
    "        connection.rollback()\n",
    "        raise e\n",
    "    finally:\n",
    "        connection.close()"
   ]
  },
  {
   "cell_type": "code",
   "execution_count": null,
   "metadata": {},
   "outputs": [],
   "source": [
    "csv_like_object = translate_data(data)"
   ]
  },
  {
   "cell_type": "code",
   "execution_count": null,
   "metadata": {},
   "outputs": [],
   "source": [
    "connection = connect()\n",
    "copy_stringio(csv_like_object, connection)\n",
    "print('OK!')\n",
    "\n",
    "shutil.move(tariff_dir + file, tariff_dir + '/uploaded/' + file)\n",
    "print('OK!')"
   ]
  },
  {
   "cell_type": "code",
   "execution_count": null,
   "metadata": {},
   "outputs": [],
   "source": []
  },
  {
   "cell_type": "code",
   "execution_count": null,
   "metadata": {},
   "outputs": [],
   "source": []
  }
 ],
 "metadata": {
  "interpreter": {
   "hash": "23a8db67aa21111d4729bfbaef80eb5d1ca2056c796c1c031d7b876865d7fe3f"
  },
  "kernelspec": {
   "display_name": "Python 3.10.4 ('uce_daily')",
   "language": "python",
   "name": "python3"
  },
  "language_info": {
   "codemirror_mode": {
    "name": "ipython",
    "version": 3
   },
   "file_extension": ".py",
   "mimetype": "text/x-python",
   "name": "python",
   "nbconvert_exporter": "python",
   "pygments_lexer": "ipython3",
   "version": "3.10.4"
  }
 },
 "nbformat": 4,
 "nbformat_minor": 2
}
