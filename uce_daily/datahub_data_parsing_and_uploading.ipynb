{
 "cells": [
  {
   "cell_type": "code",
   "execution_count": null,
   "metadata": {},
   "outputs": [],
   "source": [
    "import os\n",
    "import io\n",
    "import pytz\n",
    "import pandas as pd\n",
    "import datetime as dt\n",
    "import calendar\n",
    "import numpy as np\n",
    "from sqlalchemy import create_engine, MetaData, desc\n",
    "from sqlalchemy.sql import select, and_, or_, not_\n",
    "from sqlalchemy.pool import NullPool\n",
    "\n",
    "from settings.db import DO_URL\n",
    "from settings.sites import ceg as all_sites"
   ]
  },
  {
   "cell_type": "code",
   "outputs": [],
   "source": [
    "import os\n",
    "os.getcwd()"
   ],
   "metadata": {
    "collapsed": false
   },
   "execution_count": null
  },
  {
   "cell_type": "code",
   "outputs": [],
   "source": [
    "engine = create_engine(DO_URL, poolclass=NullPool)\n",
    "metadata = MetaData()\n",
    "metadata.reflect(bind=engine)"
   ],
   "metadata": {
    "collapsed": false
   },
   "execution_count": null
  },
  {
   "cell_type": "code",
   "execution_count": null,
   "metadata": {},
   "outputs": [],
   "source": [
    "def get_record_index(site_id, date, table, connection):\n",
    "    index = None\n",
    "\n",
    "    query_1 = select([table.c.id, table.c.completed]).where(and_(table.c.site == site_id, table.c.year == date.year, table.c.month == date.month))\n",
    "    record_to_update = connection.execute(query_1).fetchall()\n",
    "\n",
    "    if record_to_update:\n",
    "        return record_to_update[0][0], True\n",
    "    else:\n",
    "        max_index_response = connection.execute('SELECT MAX(id) FROM public.{0}'.format(table))\n",
    "        index = list(max_index_response)[0][0]\n",
    "        index = 1 if index is None else int(index) + 1\n",
    "        return index, False\n",
    "\n",
    "\n",
    "def get_site_id(site_name, connection):\n",
    "    query = 'SELECT id FROM public.sites where displayable_name = \\'{0}\\''.format(site_name)\n",
    "    # print(query)\n",
    "    site_id_response = connection.execute(query)\n",
    "    site_id = list(site_id_response)[0][0]\n",
    "    return site_id\n",
    "\n",
    "def get_zv_code(site_name, connection):\n",
    "    query = 'SELECT zv_code FROM public.sites where displayable_name = \\'{0}\\''.format(site_name)\n",
    "    # print(query)\n",
    "    zv_code_response = connection.execute(query)\n",
    "    zv_code = list(zv_code_response)[0][0]\n",
    "    return zv_code\n",
    "\n",
    "def get_time_index(start_date, last_data_day, timezone='utc'):\n",
    "    start = dt.datetime(year=start_date.year, month=start_date.month, day=1, hour=0, minute=30)\n",
    "    last_month_day_calendar = calendar.monthrange(start_date.year, start_date.month)[-1]\n",
    "    last_month_day_data = last_data_day\n",
    "    # print(last_month_day_data, last_month_day_calendar)\n",
    "    if last_month_day_data == last_month_day_calendar:\n",
    "        year = start_date.year\n",
    "        month = start_date.month + 1 \n",
    "        if month == 13:\n",
    "            month = 1\n",
    "            year = year + 1\n",
    "        end = dt.datetime(year=year, month=month, day=1, hour=0, minute=30) - dt.timedelta(hours=1)\n",
    "    else:\n",
    "        end = dt.datetime(year=start_date.year, month=start_date.month, day=last_month_day_data + 1, hour=0, minute=30)\n",
    "        end = end - dt.timedelta(hours=1)\n",
    "    index_in_kyiv = pd.date_range(start=start, end=end, freq='1h', tz='europe/kiev')\n",
    "    index_in_utc = index_in_kyiv.tz_convert('utc').tz_localize(None)\n",
    "    if timezone == 'utc':\n",
    "        return index_in_utc\n",
    "    elif timezone == 'europe/kiev':\n",
    "        return index_in_kyiv.tz_localize(None)\n",
    "    else:\n",
    "        return None\n",
    "\n",
    "\n",
    "def get_datahub_data(filename, data_version):   \n",
    "    datahub_data = pd.read_excel(filename)\n",
    "    datahub_data[\"zv\"] = datahub_data[\"ЕІС-код\"].astype(str).apply(lambda x: x.split(\" \")[0])\n",
    "    datahub_data[\"direction\"] = datahub_data[\"ЕІС-код\"].astype(str).apply(lambda x: \"consumption\" if x.split(\" \")[-1] == \"OUT\" else \"generation\")\n",
    "    datahub_data[\"site\"] = datahub_data[\"Коротка назва\"].astype(str).apply(lambda x: x.split(\"-\")[-1])\n",
    "    datahub_data = datahub_data.drop(columns=[\"ЕІС-код\", \"Коротка назва\", \"Джерело\", \"Сума за період\"])\n",
    "  \n",
    "    time_index = datahub_data.columns[:-3].to_list()\n",
    "    time_index = map(lambda x: x.split(\" \")[0], time_index)\n",
    "    time_index = map(lambda x:  dt.datetime.strptime(x, \"%d.%m.%Y\"), time_index)\n",
    "    time_index = map(lambda x:  x + dt.timedelta(minutes=30), time_index)\n",
    "    time_index = map(lambda x:  x.date(), time_index)\n",
    "    time_index = list(time_index)\n",
    "    index_in_utc = get_time_index(min(time_index), max(time_index).day, timezone='utc').tolist()\n",
    "    \n",
    "    prepared_data = dict()\n",
    "       \n",
    "    for zv_code in datahub_data[\"zv\"].unique():\n",
    "        site_data = dict()\n",
    "\n",
    "        generation = datahub_data.iloc[:, :len(index_in_utc)].loc[(datahub_data.zv == zv_code) & (datahub_data.direction == \"generation\")].fillna(0).astype(int).values.flatten().tolist()\n",
    "        consumption = datahub_data.iloc[:, :len(index_in_utc)].loc[(datahub_data.zv == zv_code) & (datahub_data.direction == \"consumption\")].fillna(0).astype(int).values.flatten().tolist()\n",
    "        total = [gen - cons for gen, cons in zip(generation, consumption)]\n",
    "        \n",
    "        site_data[\"timestamps_utc\"] = index_in_utc\n",
    "        site_data[\"year\"] = time_index[-1].year\n",
    "        site_data[\"month\"] = time_index[-1].month       \n",
    "        site_data[f\"generation_{data_version}\"] = generation\n",
    "        site_data[f\"consumption_{data_version}\"] = consumption\n",
    "        site_data[f\"total_{data_version}\"] = total\n",
    "            \n",
    "        site_data['completed'] = (max(site_data['timestamps_utc']).day == calendar.monthrange(site_data[\"year\"], site_data[\"month\"])[1]) & (data_version == \"v3\")\n",
    "        \n",
    "        prepared_data[zv_code] = site_data\n",
    "    return prepared_data"
   ]
  },
  {
   "cell_type": "code",
   "execution_count": null,
   "metadata": {},
   "outputs": [],
   "source": [
    "target_period = '2024-05'\n",
    "mms_data_version = \"v1\"\n",
    "mms_yield_data_dir = 'data/datahub/'\n",
    "march_dlst_days = {2019: 31, 2020: 29, 2021: 28, 2022: 27, 2023: 25, 2024: 30, 2025: 29}\n",
    "\n",
    "date = dt.datetime.strptime(target_period, '%Y-%m')\n",
    "print(date)\n"
   ]
  },
  {
   "cell_type": "code",
   "outputs": [],
   "source": [
    "data_file = [f for f in os.listdir(mms_yield_data_dir) if os.path.isfile(os.path.join(mms_yield_data_dir, f)) and f[-4:] == 'xlsx'][0]\n",
    "print(data_file)"
   ],
   "metadata": {
    "collapsed": false
   },
   "execution_count": null
  },
  {
   "cell_type": "code",
   "outputs": [],
   "source": [
    "datahub_data = get_datahub_data(mms_yield_data_dir + data_file, mms_data_version)"
   ],
   "metadata": {
    "collapsed": false
   },
   "execution_count": null
  },
  {
   "cell_type": "code",
   "execution_count": null,
   "metadata": {
    "tags": []
   },
   "outputs": [],
   "source": [
    "# mms_yield_sites = ['Afanasiivka']\n",
    "\n",
    "for site in all_sites:\n",
    "    print('-'*30)\n",
    "    print(site)\n",
    "    \n",
    "    \n",
    "\n",
    "    with engine.connect() as connection:\n",
    "        table = metadata.tables['mms_data']\n",
    "        \n",
    "        zv_code = get_zv_code(site, connection)\n",
    "        site_data = datahub_data[zv_code]\n",
    "        site_data['site'] = get_site_id(site, connection)\n",
    "        site_data['id'], to_update = get_record_index(site_data['site'], date, table, connection)\n",
    "        \n",
    "        #complete_period = prices.index.max().day == calendar.monthrange(date.year, date.month)[1]\n",
    "        print('Columns length: {} | {} | {} | {} | {} | {} | {} | {} | {} | {} |'.format(\n",
    "            len(site_data.get(\"timestamps_utc\", [])),\n",
    "            len(site_data.get(\"generation_v1\", [])),\n",
    "            len(site_data.get(\"generation_v2\", [])),\n",
    "            len(site_data.get(\"generation_v3\", [])),\n",
    "            len(site_data.get(\"consumption_v1\", [])),\n",
    "            len(site_data.get(\"consumption_v2\", [])),\n",
    "            len(site_data.get(\"consumption_v3\", [])),\n",
    "            len(site_data.get(\"total_v1\", [])),\n",
    "            len(site_data.get(\"total_v2\", [])),\n",
    "            len(site_data.get(\"total_v3\", []))\n",
    "        ))\n",
    "            \n",
    "        print('Ok!') \n",
    "        \n",
    "        if to_update:\n",
    "            update_statement = table.update().values(**site_data).where(table.c.id == site_data['id'])\n",
    "            updated_id = connection.execute(update_statement)\n",
    "            print('Database record updated!')\n",
    "        else:\n",
    "            insert_statement = table.insert().values(**site_data)\n",
    "            inserted_id = connection.execute(insert_statement)\n",
    "            print('Data inserted to database'.format(inserted_id))\n",
    "\n",
    "os.rename(mms_yield_data_dir + data_file, mms_yield_data_dir + \"archived/\" + f\"datahub_file_processed_on_{dt.datetime.utcnow().strftime('%Y%m%d_%H%M%S')}.xlsx\")"
   ]
  }
 ],
 "metadata": {
  "interpreter": {
   "hash": "086c78819d29cde2722290ef7b1822e29db9962e5a12d827023861b18bf338dd"
  },
  "kernelspec": {
   "display_name": "Python 3.8.12 ('uce_daily')",
   "language": "python",
   "name": "python3"
  },
  "language_info": {
   "codemirror_mode": {
    "name": "ipython",
    "version": 3
   },
   "file_extension": ".py",
   "mimetype": "text/x-python",
   "name": "python",
   "nbconvert_exporter": "python",
   "pygments_lexer": "ipython3",
   "version": "3.8.12"
  }
 },
 "nbformat": 4,
 "nbformat_minor": 2
}
