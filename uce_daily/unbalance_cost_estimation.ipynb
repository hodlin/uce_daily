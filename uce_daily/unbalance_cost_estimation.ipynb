{
 "cells": [
  {
   "cell_type": "code",
   "execution_count": null,
   "metadata": {},
   "outputs": [],
   "source": [
    "import os\n",
    "import pandas as pd\n",
    "import datetime as dt\n",
    "import time\n",
    "import calendar\n",
    "import numpy as np\n",
    "from statistics import mean\n",
    "\n",
    "from uce_resources import get_site_id, get_mms_data, get_applied_forecast, get_prices, get_green_tariff\n",
    "from uce_resources import make_results"
   ]
  },
  {
   "cell_type": "code",
   "execution_count": null,
   "metadata": {},
   "outputs": [],
   "source": [
    "from settings.sites import ceg as sites_list\n",
    "\n",
    "target_year = 2022\n",
    "target_month = 1\n",
    "forecasts_types = ['real', 'naive', 'zero']\n",
    "\n",
    "target_folder = 'data/results/{}-{:0>2}/'.format(target_year, target_month)\n",
    "if not os.path.exists(target_folder):\n",
    "    os.makedirs(target_folder)\n",
    "\n",
    "sites_list = ['Myroliubivka']\n",
    "sites_data = dict.fromkeys(sites_list)\n",
    "print(sites_data)"
   ]
  },
  {
   "cell_type": "markdown",
   "metadata": {},
   "source": [
    "# Data preparation section"
   ]
  },
  {
   "cell_type": "code",
   "execution_count": null,
   "metadata": {},
   "outputs": [],
   "source": [
    "from sqlalchemy import create_engine, MetaData\n",
    "from sqlalchemy.pool import NullPool\n",
    "from settings.db import DO_URL\n",
    "\n",
    "engine = create_engine(DO_URL, poolclass=NullPool)\n",
    "metadata = MetaData()\n",
    "metadata.reflect(bind=engine)"
   ]
  },
  {
   "cell_type": "code",
   "execution_count": null,
   "metadata": {},
   "outputs": [],
   "source": [
    "with engine.connect() as connection:\n",
    "    prices = get_prices(target_year, target_month, connection, metadata.tables['electricity_market_prices'], currency='UAH')\n",
    "\n",
    "min_price_day = prices.index.day.min()\n",
    "max_price_day = prices.index.day.max()\n",
    "\n",
    "prices.to_excel(target_folder + 'prices_{}_{}_{}-{}.xlsx'.format(target_year, target_month, min_price_day, max_price_day))\n",
    "prices"
   ]
  },
  {
   "cell_type": "code",
   "execution_count": null,
   "metadata": {},
   "outputs": [],
   "source": []
  },
  {
   "cell_type": "code",
   "execution_count": null,
   "metadata": {},
   "outputs": [],
   "source": [
    "\n",
    "with engine.connect() as connection:\n",
    "        \n",
    "    for site in sites_data.keys():\n",
    "        start = time.time()\n",
    "        print('-'*50)\n",
    "        print(site)\n",
    "        site_data = dict()\n",
    "        site_data['site'] = site\n",
    "        site_data['site_id'], site_data['legal_entity'] = get_site_id(site, connection, \n",
    "                                                                      metadata.tables['sites'],\n",
    "                                                                      include_legal_entity_id=True)\n",
    "\n",
    "        site_data['green_tariff'] = get_green_tariff(site_data['site_id'], dt.date(year=target_year, month=target_month, day=1),\n",
    "                                                     connection, metadata.tables['green_tariffs'], currency='UAH')\n",
    "        print('Green tariff: {}'.format(site_data['green_tariff']))\n",
    "        \n",
    "        mms_data, site_data['mms_version'] = get_mms_data(site_data['site_id'], \n",
    "                                                          target_year, target_month, \n",
    "                                                          connection, metadata.tables['mms_data'], include_prev=True,)\n",
    "        # print(mms_data)\n",
    "        print('MMS data | {} version | of | {} records |'.format(site_data['mms_version'], len(mms_data)))\n",
    "        applied_forecast = get_applied_forecast(site_data['site_id'], target_year, target_month, \n",
    "                                                connection=connection, db_table=metadata.tables['forecasts_applied'])\n",
    "        print('Forecast data of | {} records |'.format(len(applied_forecast)))\n",
    "        #print(applied_forecast)\n",
    "        \n",
    "        site_data['real_forecast_data'] = pd.concat([mms_data, applied_forecast], axis=1, join='inner')\n",
    "        print('Real forecast data prepared')\n",
    "\n",
    "        site_data['zero_forecast_data'] = pd.concat([mms_data, applied_forecast * 0], axis=1, join='inner')\n",
    "        print('Zero forecast data prepared')\n",
    "\n",
    "        naive_forecast_data = pd.concat([mms_data, mms_data.shift(48)], axis=1, join='inner').dropna(axis=0, how='any')\n",
    "        naive_forecast_data.columns = ['yield [kWh]', 'forecast [kWh]']\n",
    "        naive_forecast_data['forecast [kWh]'] = naive_forecast_data['forecast [kWh]'].astype(int)\n",
    "        site_data['naive_forecast_data'] = naive_forecast_data\n",
    "        print('Naive forecast data prepared')\n",
    "        \n",
    "        sites_data.update({site: site_data})\n",
    "        end = time.time()\n",
    "\n",
    "        print('Processing took {} seconds'.format(round(end - start, 2)))"
   ]
  },
  {
   "cell_type": "code",
   "execution_count": null,
   "metadata": {},
   "outputs": [],
   "source": [
    "# print(sites_data['Oleshky_2'])\n",
    "\n",
    "# data = prices\n",
    "\n",
    "# for site in sites_data.keys():\n",
    "#     site_errors = sites_data[site]['real_forecast_data']['yield [kWh]'] - sites_data[site]['real_forecast_data']['forecast [kWh]']\n",
    "#     data[site] = site_errors\n",
    "\n",
    "# # data\n",
    "# data.to_excel('./data/results/{}-{:0>2}/hourly_results_{}_{}_{}_UAH.xlsx'.format(target_year, target_month, target_year, target_month, '1-31'))"
   ]
  },
  {
   "cell_type": "markdown",
   "metadata": {},
   "source": [
    "## Unbalance cost estimations"
   ]
  },
  {
   "cell_type": "code",
   "execution_count": null,
   "metadata": {},
   "outputs": [],
   "source": [
    "columns = ['site', 'legal_entity', 'first_date', 'last_date', 'number_of_values [records]', 'yield_data_version',\n",
    "            'yielded [kWh]', 'forecast_type', 'forecasted [kWh]', \n",
    "            'green_tariff [UAH]', 'revenue [UAH]', \n",
    "            'error_u [kWh]', 'error_u [%]',\n",
    "            'max_energy [kWh]', 'max_forecast [kWh]', 'max_error [kWh]',\n",
    "            'mean_absolute_error [kWh]', 'median_absolute_error [kWh]', \n",
    "            'mean_square_error [kWh]', 'root_mean_square_error [kWh]', 'R^2 score',\n",
    "            'dropped by alpha_u [records]', 'dropped by alpha_u [%]',\n",
    "            'error_u (excess) [kWh]', 'error_u (excess) [%]',\n",
    "            'error_u (shortage) [kWh]', 'error_u (shortage) [%]', \n",
    "            'cieq_641_rule (excess) [UAH]', 'cieq_641_rule (excess) [%]',\n",
    "            'cieq_641_rule (shortage) [UAH]', 'cieq_641_rule (shortage) [%]',\n",
    "            'cieq_641_rule (net) [UAH]', 'cieq_641_rule (net) [%]', \n",
    "            'imsp_avg_641_rule [UAH/MWh]',\n",
    "            'cieq_641_rule* [UAH]', 'cieq_641_rule* [%]', \n",
    "            'imsp_avg_641_rule* [UAH/MWh]']"
   ]
  },
  {
   "cell_type": "markdown",
   "metadata": {},
   "source": []
  },
  {
   "cell_type": "markdown",
   "metadata": {},
   "source": [
    "### Daily results"
   ]
  },
  {
   "cell_type": "code",
   "execution_count": null,
   "metadata": {
    "tags": []
   },
   "outputs": [],
   "source": [
    "daily_indexes = list()\n",
    "\n",
    "for day in range(1, calendar.monthrange(target_year, target_month)[-1] + 1):\n",
    "    start = dt.datetime(year=target_year, month=target_month, day=day, hour=0, minute=30)\n",
    "    end = dt.datetime(year=target_year, month=target_month, day=day, hour=23, minute=30)\n",
    "    index_in_kyiv = pd.date_range(start=start, end=end, freq='1H', tz='europe/kiev')\n",
    "    index_in_utc = index_in_kyiv.tz_convert('utc').tz_localize(None)\n",
    "    daily_indexes.append(index_in_utc)\n",
    "\n",
    "print(len(daily_indexes))"
   ]
  },
  {
   "cell_type": "code",
   "execution_count": null,
   "metadata": {},
   "outputs": [],
   "source": [
    "print(daily_indexes[0])"
   ]
  },
  {
   "cell_type": "code",
   "execution_count": null,
   "metadata": {},
   "outputs": [],
   "source": [
    "results_real = pd.DataFrame(columns=columns)\n",
    "results_naive = pd.DataFrame(columns=columns)\n",
    "results_zero = pd.DataFrame(columns=columns)\n",
    "\n",
    "for site in sites_data.keys():\n",
    "    \n",
    "    \n",
    "    for index in daily_indexes:\n",
    "        # print(sites_data[site]['real_forecast_data'])\n",
    "        result_real = make_results(sites_data[site], 'real', prices, index)\n",
    "        #print(result_real)\n",
    "\n",
    "        result_naive = make_results(sites_data[site], 'naive', prices, index)      \n",
    "        #print(result_naive)\n",
    "\n",
    "        result_zero = make_results(sites_data[site], 'zero', prices, index)      \n",
    "        #print(result_zero)\n",
    "\n",
    "        if not result_real is None:\n",
    "            results_real = results_real.append(result_real, ignore_index=True)\n",
    "\n",
    "        if not result_naive is None:\n",
    "            results_naive = results_naive.append(result_naive, ignore_index=True)\n",
    "        \n",
    "        if not result_zero is None:\n",
    "            results_zero = results_zero.append(result_zero, ignore_index=True)\n",
    "\n",
    "    sites_data[site]['results_real'] = results_real\n",
    "    sites_data[site]['results_naive'] = results_naive\n",
    "    sites_data[site]['results_zero'] = results_zero\n",
    "\n",
    "    print(f'{site} - Results daily: Ok!')"
   ]
  },
  {
   "cell_type": "code",
   "execution_count": null,
   "metadata": {},
   "outputs": [],
   "source": [
    "# sites_data['Pohrebyshche']['results_real']"
   ]
  },
  {
   "cell_type": "code",
   "execution_count": null,
   "metadata": {},
   "outputs": [],
   "source": [
    "from uce_resources import save_results, format_excel\n",
    "\n",
    "results_daily = pd.concat([results_real, results_naive, results_zero], axis=0)\n",
    "\n",
    "min_day = results_daily.first_date.min().day\n",
    "max_day = results_daily.last_date.max().day\n",
    "\n",
    "with pd.ExcelWriter(target_folder + 'uce_daily_{}_{}_{}-{}_UAH.xlsx'.format(target_year, target_month, min_day, max_day), engine=\"openpyxl\") as  writer:\n",
    "    results_daily.to_excel(writer, 'results_daily')\n",
    "\n",
    "# writer.save()\n",
    "#format_excel(writer, results_daily).save()\n",
    "\n",
    "print('Saving results: ok!')\n"
   ]
  },
  {
   "cell_type": "code",
   "execution_count": null,
   "metadata": {},
   "outputs": [],
   "source": []
  }
 ],
 "metadata": {
  "interpreter": {
   "hash": "b3ba2566441a7c06988d0923437866b63cedc61552a5af99d1f4fb67d367b25f"
  },
  "kernelspec": {
   "display_name": "Python 3.8.8 64-bit ('base': conda)",
   "name": "python3"
  },
  "language_info": {
   "codemirror_mode": {
    "name": "ipython",
    "version": 3
   },
   "file_extension": ".py",
   "mimetype": "text/x-python",
   "name": "python",
   "nbconvert_exporter": "python",
   "pygments_lexer": "ipython3",
   "version": "3.8.12"
  }
 },
 "nbformat": 4,
 "nbformat_minor": 2
}
