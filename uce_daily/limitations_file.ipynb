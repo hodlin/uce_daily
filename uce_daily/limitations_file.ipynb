{
 "cells": [
  {
   "cell_type": "code",
   "execution_count": 157,
   "metadata": {},
   "outputs": [],
   "source": [
    "import os\n",
    "import pandas as pd\n",
    "import datetime as dt\n",
    "import time, pytz\n",
    "import calendar\n",
    "import numpy as np\n",
    "from statistics import mean\n",
    "\n",
    "from uce_resources import get_site_id, get_mms_data, get_applied_forecast, get_prices, get_green_tariff, get_applied_forecast_old\n",
    "from uce_resources import make_results"
   ]
  },
  {
   "cell_type": "code",
   "execution_count": 158,
   "metadata": {},
   "outputs": [
    {
     "name": "stderr",
     "output_type": "stream",
     "text": [
      "c:\\Users\\o.babenko\\.conda\\envs\\uce_daily\\lib\\site-packages\\ipykernel_launcher.py:7: SAWarning: Did not recognize type 'point' of column 'location'\n",
      "  import sys\n"
     ]
    }
   ],
   "source": [
    "from sqlalchemy import create_engine, MetaData\n",
    "from sqlalchemy.pool import NullPool\n",
    "from settings.db import DO_URL\n",
    "\n",
    "engine = create_engine(DO_URL, poolclass=NullPool)\n",
    "metadata = MetaData()\n",
    "metadata.reflect(bind=engine)"
   ]
  },
  {
   "cell_type": "code",
   "execution_count": 179,
   "metadata": {},
   "outputs": [
    {
     "name": "stdout",
     "output_type": "stream",
     "text": [
      "{'Verkhivka': None}\n"
     ]
    }
   ],
   "source": [
    "from settings.sites import ceg as sites_list\n",
    "\n",
    "target_year = 2023\n",
    "target_month = 3\n",
    "forecasts_types = ['real', 'naive', 'zero', 'raw']\n",
    "\n",
    "target_folder = 'C:/Users/o.babenko/Downloads/Verkhivka/'\n",
    "if not os.path.exists(target_folder):\n",
    "    os.makedirs(target_folder)\n",
    "\n",
    "sites_list =['Verkhivka']\n",
    "\n",
    "sites_data = dict.fromkeys(sites_list)\n",
    "print(sites_data)"
   ]
  },
  {
   "cell_type": "code",
   "execution_count": 180,
   "metadata": {},
   "outputs": [],
   "source": [
    "# from sqlalchemy import create_engine, MetaData\n",
    "# from sqlalchemy.pool import NullPool\n",
    "# from settings.db import DO_URL\n",
    "\n",
    "# engine = create_engine(DO_URL, poolclass=NullPool)\n",
    "# metadata = MetaData()\n",
    "# metadata.reflect(bind=engine)"
   ]
  },
  {
   "cell_type": "code",
   "execution_count": 181,
   "metadata": {},
   "outputs": [
    {
     "name": "stdout",
     "output_type": "stream",
     "text": [
      "2023-03-01 2023-03-31\n"
     ]
    },
    {
     "data": {
      "text/html": [
       "<div>\n",
       "<style scoped>\n",
       "    .dataframe tbody tr th:only-of-type {\n",
       "        vertical-align: middle;\n",
       "    }\n",
       "\n",
       "    .dataframe tbody tr th {\n",
       "        vertical-align: top;\n",
       "    }\n",
       "\n",
       "    .dataframe thead th {\n",
       "        text-align: right;\n",
       "    }\n",
       "</style>\n",
       "<table border=\"1\" class=\"dataframe\">\n",
       "  <thead>\n",
       "    <tr style=\"text-align: right;\">\n",
       "      <th></th>\n",
       "      <th>dam</th>\n",
       "      <th>imsp</th>\n",
       "      <th>positive_unbalance</th>\n",
       "      <th>negative_unbalance</th>\n",
       "    </tr>\n",
       "  </thead>\n",
       "  <tbody>\n",
       "    <tr>\n",
       "      <th>2023-02-28 22:30:00</th>\n",
       "      <td>1.99800</td>\n",
       "      <td>0.26998</td>\n",
       "      <td>0.25648</td>\n",
       "      <td>2.09790</td>\n",
       "    </tr>\n",
       "    <tr>\n",
       "      <th>2023-02-28 23:30:00</th>\n",
       "      <td>1.99800</td>\n",
       "      <td>0.12766</td>\n",
       "      <td>0.12128</td>\n",
       "      <td>2.09790</td>\n",
       "    </tr>\n",
       "    <tr>\n",
       "      <th>2023-03-01 00:30:00</th>\n",
       "      <td>1.99800</td>\n",
       "      <td>0.00002</td>\n",
       "      <td>0.00002</td>\n",
       "      <td>2.09790</td>\n",
       "    </tr>\n",
       "    <tr>\n",
       "      <th>2023-03-01 01:30:00</th>\n",
       "      <td>1.99800</td>\n",
       "      <td>0.00002</td>\n",
       "      <td>0.00002</td>\n",
       "      <td>2.09790</td>\n",
       "    </tr>\n",
       "    <tr>\n",
       "      <th>2023-03-01 02:30:00</th>\n",
       "      <td>1.99800</td>\n",
       "      <td>0.00002</td>\n",
       "      <td>0.00002</td>\n",
       "      <td>2.09790</td>\n",
       "    </tr>\n",
       "    <tr>\n",
       "      <th>...</th>\n",
       "      <td>...</td>\n",
       "      <td>...</td>\n",
       "      <td>...</td>\n",
       "      <td>...</td>\n",
       "    </tr>\n",
       "    <tr>\n",
       "      <th>2023-03-31 16:30:00</th>\n",
       "      <td>3.90000</td>\n",
       "      <td>0.00001</td>\n",
       "      <td>0.00001</td>\n",
       "      <td>4.09500</td>\n",
       "    </tr>\n",
       "    <tr>\n",
       "      <th>2023-03-31 17:30:00</th>\n",
       "      <td>3.90000</td>\n",
       "      <td>4.67998</td>\n",
       "      <td>3.70500</td>\n",
       "      <td>4.91398</td>\n",
       "    </tr>\n",
       "    <tr>\n",
       "      <th>2023-03-31 18:30:00</th>\n",
       "      <td>3.98265</td>\n",
       "      <td>4.77332</td>\n",
       "      <td>3.78352</td>\n",
       "      <td>5.01199</td>\n",
       "    </tr>\n",
       "    <tr>\n",
       "      <th>2023-03-31 19:30:00</th>\n",
       "      <td>3.90000</td>\n",
       "      <td>4.67998</td>\n",
       "      <td>3.70500</td>\n",
       "      <td>4.91398</td>\n",
       "    </tr>\n",
       "    <tr>\n",
       "      <th>2023-03-31 20:30:00</th>\n",
       "      <td>1.97175</td>\n",
       "      <td>2.36602</td>\n",
       "      <td>1.87316</td>\n",
       "      <td>2.48432</td>\n",
       "    </tr>\n",
       "  </tbody>\n",
       "</table>\n",
       "<p>743 rows × 4 columns</p>\n",
       "</div>"
      ],
      "text/plain": [
       "                         dam     imsp  positive_unbalance  negative_unbalance\n",
       "2023-02-28 22:30:00  1.99800  0.26998             0.25648             2.09790\n",
       "2023-02-28 23:30:00  1.99800  0.12766             0.12128             2.09790\n",
       "2023-03-01 00:30:00  1.99800  0.00002             0.00002             2.09790\n",
       "2023-03-01 01:30:00  1.99800  0.00002             0.00002             2.09790\n",
       "2023-03-01 02:30:00  1.99800  0.00002             0.00002             2.09790\n",
       "...                      ...      ...                 ...                 ...\n",
       "2023-03-31 16:30:00  3.90000  0.00001             0.00001             4.09500\n",
       "2023-03-31 17:30:00  3.90000  4.67998             3.70500             4.91398\n",
       "2023-03-31 18:30:00  3.98265  4.77332             3.78352             5.01199\n",
       "2023-03-31 19:30:00  3.90000  4.67998             3.70500             4.91398\n",
       "2023-03-31 20:30:00  1.97175  2.36602             1.87316             2.48432\n",
       "\n",
       "[743 rows x 4 columns]"
      ]
     },
     "execution_count": 181,
     "metadata": {},
     "output_type": "execute_result"
    }
   ],
   "source": [
    "with engine.connect() as connection:\n",
    "    prices = get_prices(target_year, target_month, connection, metadata.tables['electricity_market_prices'], currency='UAH')\n",
    "\n",
    "min_price_day = (prices.index.min() + dt.timedelta(days=1)).day\n",
    "max_price_day = prices.index.max().day\n",
    "\n",
    "start_date = dt.date(year=target_year, month=target_month, day=min_price_day)\n",
    "end_date = dt.date(year=target_year, month=target_month, day=max_price_day)\n",
    "print(start_date, end_date)\n",
    "\n",
    "prices.to_excel(target_folder + 'prices_{}_{}_{}-{}.xlsx'.format(target_year, target_month, min_price_day, max_price_day))\n",
    "prices"
   ]
  },
  {
   "cell_type": "code",
   "execution_count": 182,
   "metadata": {},
   "outputs": [
    {
     "name": "stdout",
     "output_type": "stream",
     "text": [
      "Empty DataFrame\n",
      "Columns: [Date, Time, Afanasiivka, Bazaltova, Balivka, Balky, Bar, Bereznehuvate, Bilashky, Bilozerka, Vasylivka, Velihen, Veliton, Verkhivka, Hlybochok_1, Hlybochok_2.1, Hlybochok_2.2, Hnatkiv, Dibrovka, Yelanets_1, Yelanets_2, Inhulets_1, Inhulets_2, Kachkarivka, Kyselivka, Komyshany_1, Komyshany_2, Kopaihorod, Kostohryzove, Kulevcha, Liubymivka, Mala_Lepetykha, Mykolaivka, Myroliubivka, Novokondakove, Oleshky_1, Oleshky_2, Pohrebyshche, Poniativka, Porohy, Rubanivka, Solone, Stanislavchyk, Stepnohirsk, Teplychna, Cherniatka, Chechelnyk_1, Chechelnyk_2, Sharhorod_1, Shyroke, True_Time]\n",
      "Index: []\n",
      "\n",
      "[0 rows x 51 columns]\n",
      "                     Verkhivka\n",
      "2023-02-28 22:30:00          0\n",
      "2023-02-28 23:30:00          0\n",
      "2023-03-01 00:30:00          0\n",
      "2023-03-01 01:30:00          0\n",
      "2023-03-01 02:30:00          0\n",
      "...                        ...\n",
      "2023-03-31 16:30:00          0\n",
      "2023-03-31 17:30:00          0\n",
      "2023-03-31 18:30:00          0\n",
      "2023-03-31 19:30:00          0\n",
      "2023-03-31 20:30:00          0\n",
      "\n",
      "[743 rows x 1 columns]\n"
     ]
    }
   ],
   "source": [
    "limitations_file = './data/limitations/limitations.xlsx'\n",
    "\n",
    "limitation_data = pd.read_excel(\n",
    "    limitations_file, \n",
    "    sheet_name='{}_{:02d}'.format(target_year, target_month),\n",
    "    parse_dates=False\n",
    "    )\n",
    "\n",
    "limitation_data = limitation_data.fillna(0)\n",
    "limitation_data.iloc[:, 2:] = limitation_data.iloc[:, 2:].astype(int)\n",
    "limitation_data['True_Time'] = (limitation_data['Time'] - 1).apply(lambda x: '{:02d}'.format(x))\n",
    "limitation_data.iloc[:, :2] = limitation_data.iloc[:, :2].astype(str)\n",
    "\n",
    "print(limitation_data.loc[limitation_data['Date'] == '2022-03-27'])\n",
    "\n",
    "index = pd.to_datetime(limitation_data['Date'] + ' ' + limitation_data['True_Time'], format='%Y-%m-%d %H') + dt.timedelta(minutes=30)\n",
    "index = pd.DatetimeIndex(data=index)\n",
    "index = index.tz_localize(pytz.timezone('europe/kiev'))\n",
    "index = index.tz_convert('utc')\n",
    "index = index.tz_localize(None)\n",
    "limitation_data.index = index\n",
    "limitation_data = limitation_data.drop(columns=['Date', 'Time', 'True_Time'])\n",
    "\n",
    "extended_limitations = pd.DataFrame(index=prices.index, columns=limitation_data.columns, data=0)\n",
    "extended_limitations.loc[extended_limitations.index.intersection(limitation_data.index)] = limitation_data.loc[limitation_data.index.intersection(extended_limitations.index)]\n",
    "limitation_data = extended_limitations\n",
    "limitat=pd.concat([limitation_data['Verkhivka']], axis=1, join=\"outer\")\n",
    "print(limitat)\n",
    "\n",
    "\n",
    "with pd.ExcelWriter(target_folder + 'lim_{}_{}_{}_UAH.xlsx'.format(str(sites_list[0]), target_year, target_month), engine=\"openpyxl\") as  writer:\n",
    "    limitat.to_excel(writer, 'limitat')\n",
    "# limitation_data.to_excel(\"limitations123.xlsx\")"
   ]
  }
 ],
 "metadata": {
  "kernelspec": {
   "display_name": "Python 3.7.11 ('uce_daily')",
   "language": "python",
   "name": "python3"
  },
  "language_info": {
   "codemirror_mode": {
    "name": "ipython",
    "version": 3
   },
   "file_extension": ".py",
   "mimetype": "text/x-python",
   "name": "python",
   "nbconvert_exporter": "python",
   "pygments_lexer": "ipython3",
   "version": "3.7.11"
  },
  "orig_nbformat": 4,
  "vscode": {
   "interpreter": {
    "hash": "9f6094ec2d56ebdaae3d9c77f7ab32436394f8c6f1a90f5df9f6a393f513a0f8"
   }
  }
 },
 "nbformat": 4,
 "nbformat_minor": 2
}
