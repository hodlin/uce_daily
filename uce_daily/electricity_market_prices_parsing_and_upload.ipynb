{
 "cells": [
  {
   "cell_type": "code",
   "execution_count": null,
   "source": [
    "import os\r\n",
    "import math\r\n",
    "import pandas as pd\r\n",
    "import datetime as dt\r\n",
    "import calendar\r\n",
    "import numpy as np\r\n",
    "import pytz\r\n",
    "\r\n",
    "import chart_studio\r\n",
    "import chart_studio.plotly as py\r\n",
    "import plotly.graph_objects as go\r\n",
    "import plotly.express as px"
   ],
   "outputs": [],
   "metadata": {}
  },
  {
   "cell_type": "code",
   "execution_count": null,
   "source": [
    "dlst = [dt.datetime(2019,3,31,3,30), dt.datetime(2020,3,29,3,30), dt.datetime(2021,3,28,3,30), dt.datetime(2022,3,27,3,30)]\r\n",
    "march_dlst_days = {2019: 31, 2020: 29, 2021: 28, 2022: 27, 2023: 26}"
   ],
   "outputs": [],
   "metadata": {}
  },
  {
   "cell_type": "code",
   "execution_count": null,
   "source": [
    "market_prices_dir = 'data/market/dam_idm_prices/'\r\n",
    "unbalance_prices_dir = 'data/market/unbalance_prices/'\r\n"
   ],
   "outputs": [],
   "metadata": {
    "tags": []
   }
  },
  {
   "cell_type": "code",
   "execution_count": null,
   "source": [
    "dam_idm_prices_files =  [file for file in os.listdir(market_prices_dir) if os.path.isfile(os.path.join(market_prices_dir, file))]\r\n",
    "# dam_idm_prices_files.remove('desktop.ini')\r\n",
    "\r\n",
    "print(len(dam_idm_prices_files))\r\n",
    "print(dam_idm_prices_files)"
   ],
   "outputs": [],
   "metadata": {
    "tags": []
   }
  },
  {
   "cell_type": "markdown",
   "source": [
    "### Reading DAM prices"
   ],
   "metadata": {}
  },
  {
   "cell_type": "code",
   "execution_count": null,
   "source": [
    "file = 'price_DAM_IDM_05.2022.xls'\r\n",
    "print(file)\r\n",
    "\r\n",
    "sheet_name = 'Ціна_РДН'\r\n",
    "\r\n",
    "date = file[-11:-4]\r\n",
    "date = dt.datetime.strptime(date, '%m.%Y')\r\n",
    "\r\n",
    "data = pd.read_excel(market_prices_dir + file, sheet_name=sheet_name, header=None)\r\n",
    "data = data.drop(index=[0, 1, 2]).reset_index().drop(columns=['index', 0])\r\n",
    "squized = data.stack()\r\n",
    "print(squized)\r\n",
    "\r\n",
    "squized = squized.reset_index(level=[0,1])\r\n",
    "squized['level_0'] = squized['level_0'] + 1\r\n",
    "\r\n",
    "squized.columns = ['day', 'hour','dam_price']    \r\n",
    "squized = squized.astype({'day': 'int', 'hour': 'int', 'dam_price': 'float'})\r\n",
    "\r\n",
    "if date.month == 3:\r\n",
    "    #print('MONTH is MARCH!!!!')\r\n",
    "    dlst_day = march_dlst_days[date.year]\r\n",
    "    squized = squized.drop(squized[(squized.day == dlst_day) & (squized.hour == 24)].index)\r\n",
    "\r\n",
    "start = dt.datetime(year=date.year, month=date.month, day=1, hour=0, minute=30)\r\n",
    "\r\n",
    "last_month_day_calendar = calendar.monthrange(date.year, date.month)[-1]\r\n",
    "last_month_day_data = squized['day'].max()\r\n",
    "\r\n",
    "if last_month_day_data == last_month_day_calendar:\r\n",
    "    year = date.year\r\n",
    "    month = date.month + 1 \r\n",
    "    if month == 13:\r\n",
    "        month = 1\r\n",
    "        year = year + 1\r\n",
    "    end = dt.datetime(year=year, month=month, day=1, hour=0, minute=30) - dt.timedelta(hours=1)\r\n",
    "else:\r\n",
    "    end = dt.datetime(year=date.year, month=date.month, day=last_month_day_data + 1, hour=0, minute=30)\r\n",
    "    end = end - dt.timedelta(hours=1)\r\n",
    "\r\n",
    "#print(last_month_day_calendar, last_month_day_data)\r\n",
    "# print(start, end)\r\n",
    "\r\n",
    "index_in_kyiv = pd.date_range(start=start, end=end, freq='1H', tz='europe/kiev')\r\n",
    "index_in_utc = index_in_kyiv.tz_convert('utc').tz_localize(None)\r\n",
    "\r\n",
    "#print(squized.tail(52))\r\n",
    "\r\n",
    "squized.index = index_in_utc\r\n",
    "squized = squized.drop(columns=['day', 'hour'])\r\n",
    "\r\n",
    "dam_prices = squized\r\n",
    "\r\n",
    "# print(data.head(10))\r\n",
    "print(date)\r\n",
    "print('ok!')\r\n",
    "\r\n",
    "print(dam_prices)\r\n"
   ],
   "outputs": [],
   "metadata": {
    "tags": []
   }
  },
  {
   "cell_type": "markdown",
   "source": [
    "### Reading IDM prices"
   ],
   "metadata": {
    "tags": []
   }
  },
  {
   "cell_type": "code",
   "execution_count": null,
   "source": [
    "file = file\r\n",
    "print(file)\r\n",
    "\r\n",
    "sheet_name = 'Ціна_ВДР'\r\n",
    "\r\n",
    "idm_prices = dict()\r\n",
    "\r\n",
    "date = file[-11:-4]\r\n",
    "date = dt.datetime.strptime(date, '%m.%Y')\r\n",
    "\r\n",
    "data = pd.read_excel(market_prices_dir + file, sheet_name=sheet_name, header=None)\r\n",
    "data = data.drop(index=[0, 1, 2]).reset_index().drop(columns=['index', 0])\r\n",
    "\r\n",
    "#data['datetime'] = dt.datetime(year=date.year, month=date.month, day=data[0])\r\n",
    "squized = data.stack()\r\n",
    "\r\n",
    "squized = squized.reset_index(level=[0,1])\r\n",
    "squized['level_0'] = squized['level_0'] + 1\r\n",
    "\r\n",
    "squized.columns = ['day', 'hour','idm_price']    \r\n",
    "squized = squized.astype({'day': 'int', 'hour': 'int', 'idm_price': 'float'})\r\n",
    "\r\n",
    "if date.month == 3:\r\n",
    "    #print('MONTH is MARCH!!!!')\r\n",
    "    dlst_day = march_dlst_days[date.year]\r\n",
    "    squized = squized.drop(squized[(squized.day == dlst_day) & (squized.hour == 24)].index)\r\n",
    "\r\n",
    "start = dt.datetime(year=date.year, month=date.month, day=1, hour=0, minute=30)\r\n",
    "\r\n",
    "last_month_day_calendar = calendar.monthrange(date.year, date.month)[-1]\r\n",
    "last_month_day_data = squized['day'].max()\r\n",
    "\r\n",
    "if last_month_day_data == last_month_day_calendar:\r\n",
    "    year = date.year\r\n",
    "    month = date.month + 1 \r\n",
    "    if month == 13:\r\n",
    "        month = 1\r\n",
    "        year = year + 1\r\n",
    "    end = dt.datetime(year=year, month=month, day=1, hour=0, minute=30) - dt.timedelta(hours=1)\r\n",
    "else:\r\n",
    "    end = dt.datetime(year=date.year, month=date.month, day=last_month_day_data + 1, hour=0, minute=30)\r\n",
    "    end = end - dt.timedelta(hours=1)\r\n",
    "\r\n",
    "index_in_kyiv = pd.date_range(start=start, end=end, freq='1H', tz='europe/kiev')\r\n",
    "index_in_utc = index_in_kyiv.tz_convert('utc').tz_localize(None)\r\n",
    "\r\n",
    "#print(squized.tail(52))\r\n",
    "\r\n",
    "squized.index = index_in_utc\r\n",
    "squized = squized.drop(columns=['day', 'hour'])\r\n",
    "\r\n",
    "idm_prices = squized\r\n",
    "#print(data.head(10))\r\n",
    "print(date)\r\n",
    "print('ok!')\r\n",
    "\r\n",
    "print(idm_prices)"
   ],
   "outputs": [],
   "metadata": {
    "tags": []
   }
  },
  {
   "cell_type": "code",
   "execution_count": null,
   "source": [
    "ub_prices_files =  [file for file in os.listdir(unbalance_prices_dir) if os.path.isfile(os.path.join(unbalance_prices_dir, file))]\r\n",
    "# ub_prices_files.remove('desktop.ini')\r\n",
    "\r\n",
    "print(ub_prices_files)"
   ],
   "outputs": [],
   "metadata": {}
  },
  {
   "cell_type": "markdown",
   "source": [
    "### Reading IMSP prices"
   ],
   "metadata": {}
  },
  {
   "cell_type": "code",
   "execution_count": null,
   "source": [
    "file = 'Faktychni-tsiny-nebalansiv-01-31.05.2022.xlsx'\r\n",
    "print(file)\r\n",
    "\r\n",
    "sheet_name = 'Аркуш1'\r\n",
    "\r\n",
    "ub_prices = dict()\r\n",
    "    \r\n",
    "date = file[-12:-5]\r\n",
    "date = dt.datetime.strptime(date, '%m.%Y')\r\n",
    "\r\n",
    "data = pd.read_excel(unbalance_prices_dir + file, index_col=[0, 1], usecols=[0, 1, 2], header=0, skiprows=[1, 2], parse_dates=[0])\r\n",
    "data.columns = ['imsp']\r\n",
    "data = data.astype({'imsp': 'float'})\r\n",
    "time_deltas = [dt.timedelta(hours=int(record[-1][:2]), minutes=30) for record in data.index.values]\r\n",
    "data.index = [record[0] + dt.timedelta(hours=int(record[-1][:2]), minutes=30) for record in data.index.values]\r\n",
    "data.dropna(inplace=True)\r\n",
    "\r\n",
    "if date.month == 3:\r\n",
    "    print('MONTH is MARCH!!!!')\r\n",
    "    dlst_day = march_dlst_days[date.year]\r\n",
    "    print(dlst_day)\r\n",
    "    #print(data)\r\n",
    "    #print(data[(data.index.day == dlst_day) & (data.index.hour == 23)].index)\r\n",
    "    #data = data.drop(data[(data.index.day == dlst_day) & (data.index.hour == 23)].index)\r\n",
    "    #print(data)\r\n",
    "\r\n",
    "#print(squized.tail(52))\r\n",
    "\r\n",
    "\r\n",
    "start = dt.datetime(year=date.year, month=date.month, day=1, hour=0, minute=30)\r\n",
    "\r\n",
    "last_month_day_calendar = calendar.monthrange(date.year, date.month)[-1]\r\n",
    "last_month_day_data = data.index.day.max()\r\n",
    "\r\n",
    "if last_month_day_data == last_month_day_calendar:\r\n",
    "    year = date.year\r\n",
    "    month = date.month + 1 \r\n",
    "    if month == 13:\r\n",
    "        month = 1\r\n",
    "        year = year + 1\r\n",
    "    end = dt.datetime(year=year, month=month, day=1, hour=0, minute=30) - dt.timedelta(hours=1)\r\n",
    "else:\r\n",
    "    end = dt.datetime(year=date.year, month=date.month, day=last_month_day_data, hour=23, minute=30)\r\n",
    "\r\n",
    "#print(last_month_day_calendar, last_month_day_data)\r\n",
    "#print(start, end)\r\n",
    "\r\n",
    "index_in_kyiv = pd.date_range(start=start, end=end, freq='1H', tz='europe/kiev')\r\n",
    "index_in_utc = index_in_kyiv.tz_convert('utc').tz_localize(None)\r\n",
    "\r\n",
    "#print(squized.tail(52))\r\n",
    "\r\n",
    "data.index = index_in_utc\r\n",
    "\r\n",
    "ub_prices = data\r\n",
    "\r\n",
    "print(date)\r\n",
    "print('Ok!')\r\n",
    "\r\n",
    "print(ub_prices)\r\n"
   ],
   "outputs": [],
   "metadata": {
    "tags": []
   }
  },
  {
   "cell_type": "markdown",
   "source": [
    "### Preparing intersected data"
   ],
   "metadata": {}
  },
  {
   "cell_type": "code",
   "execution_count": null,
   "source": [
    "print(dam_prices.shape)\r\n",
    "print(idm_prices.shape)\r\n",
    "print(ub_prices.shape)"
   ],
   "outputs": [],
   "metadata": {}
  },
  {
   "cell_type": "code",
   "execution_count": null,
   "source": [
    "print(dam_prices.loc[dam_prices.index.duplicated(keep='first')])\r\n",
    "print(idm_prices.loc[idm_prices.index.duplicated(keep='first')])\r\n",
    "print(ub_prices.loc[ub_prices.index.duplicated(keep='first')])"
   ],
   "outputs": [],
   "metadata": {}
  },
  {
   "cell_type": "code",
   "execution_count": null,
   "source": [
    "prices = pd.concat([dam_prices, idm_prices, ub_prices], join='outer', axis=1)\r\n",
    "prices = prices.dropna()\r\n",
    "prices.index.name = 'datetime'\r\n",
    "\r\n",
    "prices['positive_ub_price'] = (prices[['dam_price', 'imsp']].min(axis=1) * (1 - 0.05)).apply(lambda x: round(x, 2))\r\n",
    "prices['negative_ub_price'] = (prices[['dam_price', 'imsp']].max(axis=1) * (1 + 0.05)).apply(lambda x: round(x, 2))\r\n",
    "print(prices)\r\n",
    "#prices['idm_price'] = idm_prices_1\r\n",
    "#prices['imsp_price'] = ub_prices_1\r\n",
    "\r\n",
    "#prices = dam_prices_1.merge(idm_prices_1, left_index=True, right_index=True).merge(ub_prices_1, left_index=True, right_index=True)\r\n",
    "# prices.to_excel('prices.xlsx')\r\n",
    "print('Ok!')\r\n",
    "print(prices.info())\r\n",
    "print(prices)"
   ],
   "outputs": [],
   "metadata": {
    "tags": []
   }
  },
  {
   "cell_type": "code",
   "execution_count": null,
   "source": [
    "prices_info = prices.copy()\r\n",
    "prices_info['positive_cieq_price'] = prices_info['dam_price'] - prices_info['positive_ub_price']\r\n",
    "prices_info['negative_cieq_price'] = prices_info['negative_ub_price'] - prices_info['dam_price']\r\n",
    "prices_info.drop(columns=['idm_price', 'positive_ub_price', 'negative_ub_price'], inplace=True)\r\n",
    "prices_info.index = prices_info.index.tz_localize(pytz.utc).tz_convert(pytz.timezone('europe/kiev')).tz_localize(None)\r\n",
    "print(prices_info)\r\n",
    "\r\n",
    "chart_studio.tools.set_credentials_file(username='hodlin', api_key='PDUrfuO4DnVAuw7C1Jxu')\r\n",
    "\r\n",
    "fig = px.line(prices_info.loc[(prices_info.index.hour > 7) & (prices_info.index.hour < 19)], title='Electricity Market Prices')\r\n",
    "\r\n",
    "fig.update_xaxes(rangeslider_visible=True)\r\n",
    "\r\n",
    "py.iplot(fig, filename=\"electricity_market_prices\")\r\n"
   ],
   "outputs": [],
   "metadata": {
    "tags": []
   }
  },
  {
   "cell_type": "markdown",
   "source": [
    "### Putting data into database"
   ],
   "metadata": {}
  },
  {
   "cell_type": "code",
   "execution_count": null,
   "source": [
    "from sqlalchemy import create_engine, MetaData, desc\r\n",
    "from sqlalchemy.sql import select, insert, update, and_, or_, not_, func\r\n",
    "from sqlalchemy.pool import NullPool\r\n",
    "from settings.db import DO_URL\r\n",
    "\r\n",
    "\r\n",
    "engine = create_engine(DO_URL, poolclass=NullPool)\r\n",
    "metadata = MetaData()\r\n",
    "metadata.reflect(bind=engine)\r\n",
    "\r\n",
    "with engine.connect() as connection:\r\n",
    "\r\n",
    "    emp_table = metadata.tables['electricity_market_prices']\r\n",
    "    query_1 = select([emp_table.c.id, emp_table.c.completed]).where(and_(emp_table.c.year == date.year, emp_table.c.month == date.month))\r\n",
    "    complete_period = prices.index.max().day == calendar.monthrange(date.year, date.month)[1]\r\n",
    "    record_to_update = connection.execute(query_1).fetchall()\r\n",
    "    print(record_to_update)\r\n",
    "    if record_to_update:\r\n",
    "        if not record_to_update[0][1]:\r\n",
    "            update_statement = emp_table.update().values((record_to_update[0][0], date.year, date.month, \r\n",
    "                                                      list(prices.index), \r\n",
    "                                                      list(prices.dam_price), \r\n",
    "                                                      list(prices.idm_price), \r\n",
    "                                                      list(prices.imsp),\r\n",
    "                                                      list(prices.positive_ub_price),\r\n",
    "                                                      list(prices.negative_ub_price),\r\n",
    "                                                      complete_period)).where(emp_table.c.id == record_to_update[0][0])\r\n",
    "            updated_id = connection.execute(update_statement)\r\n",
    "            print('Database record updated!')\r\n",
    "        else:\r\n",
    "            print('Not updated! Record already completed!')\r\n",
    "    else:\r\n",
    "        query_2 = select([func.max(emp_table.c.id)])\r\n",
    "        max_id = connection.execute(query_2).fetchall()\r\n",
    "        print(max_id)\r\n",
    "        max_id = max_id[0][0] + 1 if max_id else 1\r\n",
    "        print(max_id)\r\n",
    "\r\n",
    "        insert_statement = emp_table.insert().values((max_id, date.year, date.month, \r\n",
    "                                                      list(prices.index), \r\n",
    "                                                      list(prices.dam_price), \r\n",
    "                                                      list(prices.idm_price), \r\n",
    "                                                      list(prices.imsp),\r\n",
    "                                                      list(prices.positive_ub_price),\r\n",
    "                                                      list(prices.negative_ub_price),\r\n",
    "                                                      complete_period))\r\n",
    "        inserted_id = connection.execute(insert_statement)\r\n",
    "        print('Data inserted to database at index {}'.format(inserted_id))"
   ],
   "outputs": [],
   "metadata": {}
  }
 ],
 "metadata": {
  "interpreter": {
   "hash": "791b94ef1c920df7aa328568b305f7d9bc5743b8b96eb160dd8037bdf207fe04"
  },
  "kernelspec": {
   "name": "python3",
   "display_name": "Python 3.7.11 64-bit ('uce_daily': conda)"
  },
  "language_info": {
   "codemirror_mode": {
    "name": "ipython",
    "version": 3
   },
   "file_extension": ".py",
   "mimetype": "text/x-python",
   "name": "python",
   "nbconvert_exporter": "python",
   "pygments_lexer": "ipython3",
   "version": "3.7.11"
  }
 },
 "nbformat": 4,
 "nbformat_minor": 2
}