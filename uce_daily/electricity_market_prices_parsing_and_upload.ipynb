{
 "cells": [
  {
   "cell_type": "code",
   "execution_count": 1,
   "metadata": {},
   "outputs": [],
   "source": [
    "import os\n",
    "import math\n",
    "import pandas as pd\n",
    "import datetime as dt\n",
    "import calendar\n",
    "import numpy as np"
   ]
  },
  {
   "cell_type": "code",
   "execution_count": 2,
   "metadata": {},
   "outputs": [],
   "source": [
    "dlst = [dt.datetime(2019,3,31,3,30), dt.datetime(2020,3,29,3,30), dt.datetime(2021,3,28,3,30), dt.datetime(2022,3,27,3,30)]\n",
    "march_dlst_days = {2019: 31, 2020: 29, 2021: 28, 2022: 27, 2023: 26}"
   ]
  },
  {
   "cell_type": "code",
   "execution_count": 3,
   "metadata": {
    "tags": []
   },
   "outputs": [],
   "source": [
    "market_prices_dir = 'data/market/dam_idm_prices/'\n",
    "unbalance_prices_dir = 'data/market/unbalance_prices/'\n"
   ]
  },
  {
   "cell_type": "code",
   "execution_count": 4,
   "metadata": {
    "tags": []
   },
   "outputs": [
    {
     "name": "stdout",
     "output_type": "stream",
     "text": [
      "2\n",
      "['price_DAM_IDM_01.2022.xls', 'price_DAM_IDM_02.2022.xls']\n"
     ]
    }
   ],
   "source": [
    "dam_idm_prices_files =  [file for file in os.listdir(market_prices_dir) if os.path.isfile(os.path.join(market_prices_dir, file))]\n",
    "# dam_idm_prices_files.remove('desktop.ini')\n",
    "\n",
    "print(len(dam_idm_prices_files))\n",
    "print(dam_idm_prices_files)"
   ]
  },
  {
   "cell_type": "markdown",
   "metadata": {},
   "source": [
    "### Reading DAM prices"
   ]
  },
  {
   "cell_type": "code",
   "execution_count": 5,
   "metadata": {
    "tags": []
   },
   "outputs": [
    {
     "name": "stdout",
     "output_type": "stream",
     "text": [
      "price_DAM_IDM_02.2022.xls\n",
      "0   1       1440\n",
      "    2     1400.0\n",
      "    3     1000.0\n",
      "    4     1000.0\n",
      "    5     1000.0\n",
      "           ...  \n",
      "13  20    2550.0\n",
      "    21    2550.0\n",
      "    22    2550.0\n",
      "    23    2550.0\n",
      "    24     987.5\n",
      "Length: 336, dtype: object\n",
      "2022-02-01 00:00:00\n",
      "ok!\n",
      "                     dam_price\n",
      "2022-01-31 22:30:00     1440.0\n",
      "2022-01-31 23:30:00     1400.0\n",
      "2022-02-01 00:30:00     1000.0\n",
      "2022-02-01 01:30:00     1000.0\n",
      "2022-02-01 02:30:00     1000.0\n",
      "...                        ...\n",
      "2022-02-14 17:30:00     2550.0\n",
      "2022-02-14 18:30:00     2550.0\n",
      "2022-02-14 19:30:00     2550.0\n",
      "2022-02-14 20:30:00     2550.0\n",
      "2022-02-14 21:30:00      987.5\n",
      "\n",
      "[336 rows x 1 columns]\n"
     ]
    }
   ],
   "source": [
    "file = 'price_DAM_IDM_02.2022.xls'\n",
    "print(file)\n",
    "\n",
    "sheet_name = 'Ціна_РДН_ОЕС_України'\n",
    "\n",
    "date = file[-11:-4]\n",
    "date = dt.datetime.strptime(date, '%m.%Y')\n",
    "\n",
    "data = pd.read_excel(market_prices_dir + file, sheet_name=sheet_name, header=None)\n",
    "data = data.drop(index=[0, 1, 2]).reset_index().drop(columns=['index', 0])\n",
    "squized = data.stack()\n",
    "print(squized)\n",
    "\n",
    "squized = squized.reset_index(level=[0,1])\n",
    "squized['level_0'] = squized['level_0'] + 1\n",
    "\n",
    "squized.columns = ['day', 'hour','dam_price']    \n",
    "squized = squized.astype({'day': 'int', 'hour': 'int', 'dam_price': 'float'})\n",
    "\n",
    "if date.month == 3:\n",
    "    #print('MONTH is MARCH!!!!')\n",
    "    dlst_day = march_dlst_days[date.year]\n",
    "    squized = squized.drop(squized[(squized.day == dlst_day) & (squized.hour == 24)].index)\n",
    "\n",
    "start = dt.datetime(year=date.year, month=date.month, day=1, hour=0, minute=30)\n",
    "\n",
    "last_month_day_calendar = calendar.monthrange(date.year, date.month)[-1]\n",
    "last_month_day_data = squized['day'].max()\n",
    "\n",
    "if last_month_day_data == last_month_day_calendar:\n",
    "    year = date.year\n",
    "    month = date.month + 1 \n",
    "    if month == 13:\n",
    "        month = 1\n",
    "        year = year + 1\n",
    "    end = dt.datetime(year=year, month=month, day=1, hour=0, minute=30) - dt.timedelta(hours=1)\n",
    "else:\n",
    "    end = dt.datetime(year=date.year, month=date.month, day=last_month_day_data + 1, hour=0, minute=30)\n",
    "    end = end - dt.timedelta(hours=1)\n",
    "\n",
    "#print(last_month_day_calendar, last_month_day_data)\n",
    "# print(start, end)\n",
    "\n",
    "index_in_kyiv = pd.date_range(start=start, end=end, freq='1H', tz='europe/kiev')\n",
    "index_in_utc = index_in_kyiv.tz_convert('utc').tz_localize(None)\n",
    "\n",
    "#print(squized.tail(52))\n",
    "\n",
    "squized.index = index_in_utc\n",
    "squized = squized.drop(columns=['day', 'hour'])\n",
    "\n",
    "dam_prices = squized\n",
    "\n",
    "# print(data.head(10))\n",
    "print(date)\n",
    "print('ok!')\n",
    "\n",
    "print(dam_prices)\n"
   ]
  },
  {
   "cell_type": "markdown",
   "metadata": {
    "tags": []
   },
   "source": [
    "### Reading IDM prices"
   ]
  },
  {
   "cell_type": "code",
   "execution_count": 6,
   "metadata": {
    "tags": []
   },
   "outputs": [
    {
     "name": "stdout",
     "output_type": "stream",
     "text": [
      "price_DAM_IDM_02.2022.xls\n",
      "2022-02-01 00:00:00\n",
      "ok!\n",
      "                     idm_price\n",
      "2022-01-31 22:30:00    1406.39\n",
      "2022-01-31 23:30:00    1372.56\n",
      "2022-02-01 00:30:00     974.90\n",
      "2022-02-01 01:30:00     973.57\n",
      "2022-02-01 02:30:00     974.00\n",
      "...                        ...\n",
      "2022-02-13 17:30:00    4000.00\n",
      "2022-02-13 18:30:00    4000.00\n",
      "2022-02-13 19:30:00    4000.00\n",
      "2022-02-13 20:30:00    3982.91\n",
      "2022-02-13 21:30:00    1481.25\n",
      "\n",
      "[312 rows x 1 columns]\n"
     ]
    }
   ],
   "source": [
    "file = file\n",
    "print(file)\n",
    "\n",
    "sheet_name = 'Ціна_ВДР_ОЕС_України'\n",
    "\n",
    "idm_prices = dict()\n",
    "\n",
    "date = file[-11:-4]\n",
    "date = dt.datetime.strptime(date, '%m.%Y')\n",
    "\n",
    "data = pd.read_excel(market_prices_dir + file, sheet_name=sheet_name, header=None)\n",
    "data = data.drop(index=[0, 1, 2]).reset_index().drop(columns=['index', 0])\n",
    "\n",
    "#data['datetime'] = dt.datetime(year=date.year, month=date.month, day=data[0])\n",
    "squized = data.stack()\n",
    "\n",
    "squized = squized.reset_index(level=[0,1])\n",
    "squized['level_0'] = squized['level_0'] + 1\n",
    "\n",
    "squized.columns = ['day', 'hour','idm_price']    \n",
    "squized = squized.astype({'day': 'int', 'hour': 'int', 'idm_price': 'float'})\n",
    "\n",
    "if date.month == 3:\n",
    "    #print('MONTH is MARCH!!!!')\n",
    "    dlst_day = march_dlst_days[date.year]\n",
    "    squized = squized.drop(squized[(squized.day == dlst_day) & (squized.hour == 24)].index)\n",
    "\n",
    "start = dt.datetime(year=date.year, month=date.month, day=1, hour=0, minute=30)\n",
    "\n",
    "last_month_day_calendar = calendar.monthrange(date.year, date.month)[-1]\n",
    "last_month_day_data = squized['day'].max()\n",
    "\n",
    "if last_month_day_data == last_month_day_calendar:\n",
    "    year = date.year\n",
    "    month = date.month + 1 \n",
    "    if month == 13:\n",
    "        month = 1\n",
    "        year = year + 1\n",
    "    end = dt.datetime(year=year, month=month, day=1, hour=0, minute=30) - dt.timedelta(hours=1)\n",
    "else:\n",
    "    end = dt.datetime(year=date.year, month=date.month, day=last_month_day_data + 1, hour=0, minute=30)\n",
    "    end = end - dt.timedelta(hours=1)\n",
    "\n",
    "index_in_kyiv = pd.date_range(start=start, end=end, freq='1H', tz='europe/kiev')\n",
    "index_in_utc = index_in_kyiv.tz_convert('utc').tz_localize(None)\n",
    "\n",
    "#print(squized.tail(52))\n",
    "\n",
    "squized.index = index_in_utc\n",
    "squized = squized.drop(columns=['day', 'hour'])\n",
    "\n",
    "idm_prices = squized\n",
    "#print(data.head(10))\n",
    "print(date)\n",
    "print('ok!')\n",
    "\n",
    "print(idm_prices)"
   ]
  },
  {
   "cell_type": "code",
   "execution_count": 8,
   "metadata": {},
   "outputs": [
    {
     "name": "stdout",
     "output_type": "stream",
     "text": [
      "['Faktychni-tsiny-nebalansiv-01-09.02.2022.xlsx', 'Faktychni-tsiny-nebalansiv-01-13.02.2022.xlsx', 'Faktychni-tsiny-nebalansiv-01-18.01.2022.xlsx', 'Faktychni-tsiny-nebalansiv-01-20.01.2022.xlsx', 'Faktychni-tsiny-nebalansiv-01-26.01.2022.xlsx', 'Faktychni-tsiny-nebalansiv-01-31.01.2022.xlsx']\n"
     ]
    }
   ],
   "source": [
    "ub_prices_files =  [file for file in os.listdir(unbalance_prices_dir) if os.path.isfile(os.path.join(unbalance_prices_dir, file))]\n",
    "# ub_prices_files.remove('desktop.ini')\n",
    "\n",
    "print(ub_prices_files)"
   ]
  },
  {
   "cell_type": "markdown",
   "metadata": {},
   "source": [
    "### Reading IMSP prices"
   ]
  },
  {
   "cell_type": "code",
   "execution_count": 9,
   "metadata": {
    "tags": []
   },
   "outputs": [
    {
     "name": "stdout",
     "output_type": "stream",
     "text": [
      "Faktychni-tsiny-nebalansiv-01-13.02.2022.xlsx\n",
      "2022-02-01 00:00:00\n",
      "Ok!\n",
      "                        imsp\n",
      "2022-01-31 22:30:00     0.01\n",
      "2022-01-31 23:30:00     0.01\n",
      "2022-02-01 00:30:00     0.01\n",
      "2022-02-01 01:30:00     0.01\n",
      "2022-02-01 02:30:00     0.01\n",
      "...                      ...\n",
      "2022-02-13 17:30:00  4600.00\n",
      "2022-02-13 18:30:00  4600.00\n",
      "2022-02-13 19:30:00  4600.00\n",
      "2022-02-13 20:30:00  4599.99\n",
      "2022-02-13 21:30:00  2299.99\n",
      "\n",
      "[312 rows x 1 columns]\n"
     ]
    }
   ],
   "source": [
    "file = 'Faktychni-tsiny-nebalansiv-01-13.02.2022.xlsx'\n",
    "print(file)\n",
    "\n",
    "sheet_name = 'Аркуш1'\n",
    "\n",
    "ub_prices = dict()\n",
    "    \n",
    "date = file[-12:-5]\n",
    "date = dt.datetime.strptime(date, '%m.%Y')\n",
    "\n",
    "data = pd.read_excel(unbalance_prices_dir + file, index_col=[0, 1], usecols=[0, 1, 2], header=0, skiprows=[1, 2], parse_dates=[0])\n",
    "data.columns = ['imsp']\n",
    "data = data.astype({'imsp': 'float'})\n",
    "time_deltas = [dt.timedelta(hours=int(record[-1][:2]), minutes=30) for record in data.index.values]\n",
    "data.index = [record[0] + dt.timedelta(hours=int(record[-1][:2]), minutes=30) for record in data.index.values]\n",
    "data.dropna(inplace=True)\n",
    "\n",
    "if date.month == 3:\n",
    "    print('MONTH is MARCH!!!!')\n",
    "    dlst_day = march_dlst_days[date.year]\n",
    "    print(dlst_day)\n",
    "    #print(data)\n",
    "    #print(data[(data.index.day == dlst_day) & (data.index.hour == 23)].index)\n",
    "    #data = data.drop(data[(data.index.day == dlst_day) & (data.index.hour == 23)].index)\n",
    "    #print(data)\n",
    "\n",
    "#print(squized.tail(52))\n",
    "\n",
    "\n",
    "start = dt.datetime(year=date.year, month=date.month, day=1, hour=0, minute=30)\n",
    "\n",
    "last_month_day_calendar = calendar.monthrange(date.year, date.month)[-1]\n",
    "last_month_day_data = data.index.day.max()\n",
    "\n",
    "if last_month_day_data == last_month_day_calendar:\n",
    "    year = date.year\n",
    "    month = date.month + 1 \n",
    "    if month == 13:\n",
    "        month = 1\n",
    "        year = year + 1\n",
    "    end = dt.datetime(year=year, month=month, day=1, hour=0, minute=30) - dt.timedelta(hours=1)\n",
    "else:\n",
    "    end = dt.datetime(year=date.year, month=date.month, day=last_month_day_data, hour=23, minute=30)\n",
    "\n",
    "#print(last_month_day_calendar, last_month_day_data)\n",
    "#print(start, end)\n",
    "\n",
    "index_in_kyiv = pd.date_range(start=start, end=end, freq='1H', tz='europe/kiev')\n",
    "index_in_utc = index_in_kyiv.tz_convert('utc').tz_localize(None)\n",
    "\n",
    "#print(squized.tail(52))\n",
    "\n",
    "data.index = index_in_utc\n",
    "\n",
    "ub_prices = data\n",
    "\n",
    "print(date)\n",
    "print('Ok!')\n",
    "\n",
    "print(ub_prices)\n"
   ]
  },
  {
   "cell_type": "markdown",
   "metadata": {},
   "source": [
    "### Preparing intersected data"
   ]
  },
  {
   "cell_type": "code",
   "execution_count": 10,
   "metadata": {},
   "outputs": [
    {
     "name": "stdout",
     "output_type": "stream",
     "text": [
      "(336, 1)\n",
      "(312, 1)\n",
      "(312, 1)\n"
     ]
    }
   ],
   "source": [
    "print(dam_prices.shape)\n",
    "print(idm_prices.shape)\n",
    "print(ub_prices.shape)"
   ]
  },
  {
   "cell_type": "code",
   "execution_count": 11,
   "metadata": {},
   "outputs": [
    {
     "name": "stdout",
     "output_type": "stream",
     "text": [
      "Empty DataFrame\n",
      "Columns: [dam_price]\n",
      "Index: []\n",
      "Empty DataFrame\n",
      "Columns: [idm_price]\n",
      "Index: []\n",
      "Empty DataFrame\n",
      "Columns: [imsp]\n",
      "Index: []\n"
     ]
    }
   ],
   "source": [
    "print(dam_prices.loc[dam_prices.index.duplicated(keep='first')])\n",
    "print(idm_prices.loc[idm_prices.index.duplicated(keep='first')])\n",
    "print(ub_prices.loc[ub_prices.index.duplicated(keep='first')])"
   ]
  },
  {
   "cell_type": "code",
   "execution_count": 12,
   "metadata": {
    "tags": []
   },
   "outputs": [
    {
     "name": "stdout",
     "output_type": "stream",
     "text": [
      "                     dam_price  idm_price     imsp  positive_ub_price  \\\n",
      "datetime                                                                \n",
      "2022-01-31 22:30:00    1440.00    1406.39     0.01               0.01   \n",
      "2022-01-31 23:30:00    1400.00    1372.56     0.01               0.01   \n",
      "2022-02-01 00:30:00    1000.00     974.90     0.01               0.01   \n",
      "2022-02-01 01:30:00    1000.00     973.57     0.01               0.01   \n",
      "2022-02-01 02:30:00    1000.00     974.00     0.01               0.01   \n",
      "...                        ...        ...      ...                ...   \n",
      "2022-02-13 17:30:00    2750.00    4000.00  4600.00            2612.50   \n",
      "2022-02-13 18:30:00    2750.00    4000.00  4600.00            2612.50   \n",
      "2022-02-13 19:30:00    2716.13    4000.00  4600.00            2580.32   \n",
      "2022-02-13 20:30:00    2655.27    3982.91  4599.99            2522.51   \n",
      "2022-02-13 21:30:00     987.50    1481.25  2299.99             938.12   \n",
      "\n",
      "                     negative_ub_price  \n",
      "datetime                                \n",
      "2022-01-31 22:30:00            1512.00  \n",
      "2022-01-31 23:30:00            1470.00  \n",
      "2022-02-01 00:30:00            1050.00  \n",
      "2022-02-01 01:30:00            1050.00  \n",
      "2022-02-01 02:30:00            1050.00  \n",
      "...                                ...  \n",
      "2022-02-13 17:30:00            4830.00  \n",
      "2022-02-13 18:30:00            4830.00  \n",
      "2022-02-13 19:30:00            4830.00  \n",
      "2022-02-13 20:30:00            4829.99  \n",
      "2022-02-13 21:30:00            2414.99  \n",
      "\n",
      "[312 rows x 5 columns]\n",
      "Ok!\n",
      "<class 'pandas.core.frame.DataFrame'>\n",
      "DatetimeIndex: 312 entries, 2022-01-31 22:30:00 to 2022-02-13 21:30:00\n",
      "Freq: H\n",
      "Data columns (total 5 columns):\n",
      " #   Column             Non-Null Count  Dtype  \n",
      "---  ------             --------------  -----  \n",
      " 0   dam_price          312 non-null    float64\n",
      " 1   idm_price          312 non-null    float64\n",
      " 2   imsp               312 non-null    float64\n",
      " 3   positive_ub_price  312 non-null    float64\n",
      " 4   negative_ub_price  312 non-null    float64\n",
      "dtypes: float64(5)\n",
      "memory usage: 14.6 KB\n",
      "None\n",
      "                     dam_price  idm_price     imsp  positive_ub_price  \\\n",
      "datetime                                                                \n",
      "2022-01-31 22:30:00    1440.00    1406.39     0.01               0.01   \n",
      "2022-01-31 23:30:00    1400.00    1372.56     0.01               0.01   \n",
      "2022-02-01 00:30:00    1000.00     974.90     0.01               0.01   \n",
      "2022-02-01 01:30:00    1000.00     973.57     0.01               0.01   \n",
      "2022-02-01 02:30:00    1000.00     974.00     0.01               0.01   \n",
      "...                        ...        ...      ...                ...   \n",
      "2022-02-13 17:30:00    2750.00    4000.00  4600.00            2612.50   \n",
      "2022-02-13 18:30:00    2750.00    4000.00  4600.00            2612.50   \n",
      "2022-02-13 19:30:00    2716.13    4000.00  4600.00            2580.32   \n",
      "2022-02-13 20:30:00    2655.27    3982.91  4599.99            2522.51   \n",
      "2022-02-13 21:30:00     987.50    1481.25  2299.99             938.12   \n",
      "\n",
      "                     negative_ub_price  \n",
      "datetime                                \n",
      "2022-01-31 22:30:00            1512.00  \n",
      "2022-01-31 23:30:00            1470.00  \n",
      "2022-02-01 00:30:00            1050.00  \n",
      "2022-02-01 01:30:00            1050.00  \n",
      "2022-02-01 02:30:00            1050.00  \n",
      "...                                ...  \n",
      "2022-02-13 17:30:00            4830.00  \n",
      "2022-02-13 18:30:00            4830.00  \n",
      "2022-02-13 19:30:00            4830.00  \n",
      "2022-02-13 20:30:00            4829.99  \n",
      "2022-02-13 21:30:00            2414.99  \n",
      "\n",
      "[312 rows x 5 columns]\n"
     ]
    }
   ],
   "source": [
    "prices = pd.concat([dam_prices, idm_prices, ub_prices], join='outer', axis=1)\n",
    "prices = prices.dropna()\n",
    "prices.index.name = 'datetime'\n",
    "\n",
    "prices['positive_ub_price'] = (prices[['dam_price', 'imsp']].min(axis=1) * (1 - 0.05)).apply(lambda x: round(x, 2))\n",
    "prices['negative_ub_price'] = (prices[['dam_price', 'imsp']].max(axis=1) * (1 + 0.05)).apply(lambda x: round(x, 2))\n",
    "print(prices)\n",
    "#prices['idm_price'] = idm_prices_1\n",
    "#prices['imsp_price'] = ub_prices_1\n",
    "\n",
    "#prices = dam_prices_1.merge(idm_prices_1, left_index=True, right_index=True).merge(ub_prices_1, left_index=True, right_index=True)\n",
    "# prices.to_excel('prices.xlsx')\n",
    "print('Ok!')\n",
    "print(prices.info())\n",
    "print(prices)"
   ]
  },
  {
   "cell_type": "code",
   "execution_count": null,
   "metadata": {
    "tags": []
   },
   "outputs": [],
   "source": []
  },
  {
   "cell_type": "markdown",
   "metadata": {},
   "source": [
    "### Putting data into database"
   ]
  },
  {
   "cell_type": "code",
   "execution_count": 13,
   "metadata": {},
   "outputs": [
    {
     "name": "stderr",
     "output_type": "stream",
     "text": [
      "C:\\Users\\n.kozelets\\AppData\\Local\\Temp\\ipykernel_13468\\1650978460.py:9: SAWarning: Did not recognize type 'point' of column 'location'\n",
      "  metadata.reflect(bind=engine)\n"
     ]
    },
    {
     "name": "stdout",
     "output_type": "stream",
     "text": [
      "[(14, False)]\n",
      "Database record updated!\n"
     ]
    }
   ],
   "source": [
    "from sqlalchemy import create_engine, MetaData, desc\n",
    "from sqlalchemy.sql import select, insert, update, and_, or_, not_, func\n",
    "from sqlalchemy.pool import NullPool\n",
    "from settings.db import DO_URL\n",
    "\n",
    "\n",
    "engine = create_engine(DO_URL, poolclass=NullPool)\n",
    "metadata = MetaData()\n",
    "metadata.reflect(bind=engine)\n",
    "\n",
    "with engine.connect() as connection:\n",
    "\n",
    "    emp_table = metadata.tables['electricity_market_prices']\n",
    "    query_1 = select([emp_table.c.id, emp_table.c.completed]).where(and_(emp_table.c.year == date.year, emp_table.c.month == date.month))\n",
    "    complete_period = prices.index.max().day == calendar.monthrange(date.year, date.month)[1]\n",
    "    record_to_update = connection.execute(query_1).fetchall()\n",
    "    print(record_to_update)\n",
    "    if record_to_update:\n",
    "        if not record_to_update[0][1]:\n",
    "            update_statement = emp_table.update().values((record_to_update[0][0], date.year, date.month, \n",
    "                                                      list(prices.index), \n",
    "                                                      list(prices.dam_price), \n",
    "                                                      list(prices.idm_price), \n",
    "                                                      list(prices.imsp),\n",
    "                                                      list(prices.positive_ub_price),\n",
    "                                                      list(prices.negative_ub_price),\n",
    "                                                      complete_period)).where(emp_table.c.id == record_to_update[0][0])\n",
    "            updated_id = connection.execute(update_statement)\n",
    "            print('Database record updated!')\n",
    "        else:\n",
    "            print('Not updated! Record already completed!')\n",
    "    else:\n",
    "        query_2 = select([func.max(emp_table.c.id)])\n",
    "        max_id = connection.execute(query_2).fetchall()\n",
    "        print(max_id)\n",
    "        max_id = max_id[0][0] + 1 if max_id else 1\n",
    "        print(max_id)\n",
    "\n",
    "        insert_statement = emp_table.insert().values((max_id, date.year, date.month, \n",
    "                                                      list(prices.index), \n",
    "                                                      list(prices.dam_price), \n",
    "                                                      list(prices.idm_price), \n",
    "                                                      list(prices.imsp),\n",
    "                                                      list(prices.positive_ub_price),\n",
    "                                                      list(prices.negative_ub_price),\n",
    "                                                      complete_period))\n",
    "        inserted_id = connection.execute(insert_statement)\n",
    "        print('Data inserted to database at index {}'.format(inserted_id))"
   ]
  }
 ],
 "metadata": {
  "interpreter": {
   "hash": "b3ba2566441a7c06988d0923437866b63cedc61552a5af99d1f4fb67d367b25f"
  },
  "kernelspec": {
   "display_name": "Python 3.8.8 64-bit ('base': conda)",
   "name": "python3"
  },
  "language_info": {
   "codemirror_mode": {
    "name": "ipython",
    "version": 3
   },
   "file_extension": ".py",
   "mimetype": "text/x-python",
   "name": "python",
   "nbconvert_exporter": "python",
   "pygments_lexer": "ipython3",
   "version": "3.8.12"
  }
 },
 "nbformat": 4,
 "nbformat_minor": 2
}
