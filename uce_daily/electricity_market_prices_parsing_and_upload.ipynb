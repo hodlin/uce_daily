{
 "cells": [
  {
   "cell_type": "code",
   "execution_count": 1,
   "metadata": {},
   "outputs": [],
   "source": [
    "import os\n",
    "import math\n",
    "import pandas as pd\n",
    "import datetime as dt\n",
    "import calendar\n",
    "import numpy as np"
   ]
  },
  {
   "cell_type": "code",
   "execution_count": 2,
   "metadata": {},
   "outputs": [],
   "source": [
    "dlst = [dt.datetime(2019,3,31,3,30), dt.datetime(2020,3,29,3,30), dt.datetime(2021,3,28,3,30), dt.datetime(2022,3,27,3,30)]\n",
    "march_dlst_days = {2019: 31, 2020: 29, 2021: 28, 2022: 27, 2023: 26}"
   ]
  },
  {
   "cell_type": "code",
   "execution_count": 3,
   "metadata": {
    "tags": []
   },
   "outputs": [],
   "source": [
    "market_prices_dir = 'data/market/dam_idm_prices/'\n",
    "unbalance_prices_dir = 'data/market/unbalance_prices/'\n"
   ]
  },
  {
   "cell_type": "code",
   "execution_count": 4,
   "metadata": {
    "tags": []
   },
   "outputs": [
    {
     "ename": "ValueError",
     "evalue": "list.remove(x): x not in list",
     "output_type": "error",
     "traceback": [
      "\u001b[1;31m---------------------------------------------------------------------------\u001b[0m",
      "\u001b[1;31mValueError\u001b[0m                                Traceback (most recent call last)",
      "\u001b[1;32m<ipython-input-4-be79fd5c6c45>\u001b[0m in \u001b[0;36m<module>\u001b[1;34m\u001b[0m\n\u001b[0;32m      1\u001b[0m \u001b[0mdam_idm_prices_files\u001b[0m \u001b[1;33m=\u001b[0m  \u001b[1;33m[\u001b[0m\u001b[0mfile\u001b[0m \u001b[1;32mfor\u001b[0m \u001b[0mfile\u001b[0m \u001b[1;32min\u001b[0m \u001b[0mos\u001b[0m\u001b[1;33m.\u001b[0m\u001b[0mlistdir\u001b[0m\u001b[1;33m(\u001b[0m\u001b[0mmarket_prices_dir\u001b[0m\u001b[1;33m)\u001b[0m \u001b[1;32mif\u001b[0m \u001b[0mos\u001b[0m\u001b[1;33m.\u001b[0m\u001b[0mpath\u001b[0m\u001b[1;33m.\u001b[0m\u001b[0misfile\u001b[0m\u001b[1;33m(\u001b[0m\u001b[0mos\u001b[0m\u001b[1;33m.\u001b[0m\u001b[0mpath\u001b[0m\u001b[1;33m.\u001b[0m\u001b[0mjoin\u001b[0m\u001b[1;33m(\u001b[0m\u001b[0mmarket_prices_dir\u001b[0m\u001b[1;33m,\u001b[0m \u001b[0mfile\u001b[0m\u001b[1;33m)\u001b[0m\u001b[1;33m)\u001b[0m\u001b[1;33m]\u001b[0m\u001b[1;33m\u001b[0m\u001b[1;33m\u001b[0m\u001b[0m\n\u001b[1;32m----> 2\u001b[1;33m \u001b[0mdam_idm_prices_files\u001b[0m\u001b[1;33m.\u001b[0m\u001b[0mremove\u001b[0m\u001b[1;33m(\u001b[0m\u001b[1;34m'desktop.ini'\u001b[0m\u001b[1;33m)\u001b[0m\u001b[1;33m\u001b[0m\u001b[1;33m\u001b[0m\u001b[0m\n\u001b[0m\u001b[0;32m      3\u001b[0m \u001b[1;33m\u001b[0m\u001b[0m\n\u001b[0;32m      4\u001b[0m \u001b[0mprint\u001b[0m\u001b[1;33m(\u001b[0m\u001b[0mlen\u001b[0m\u001b[1;33m(\u001b[0m\u001b[0mdam_idm_prices_files\u001b[0m\u001b[1;33m)\u001b[0m\u001b[1;33m)\u001b[0m\u001b[1;33m\u001b[0m\u001b[1;33m\u001b[0m\u001b[0m\n\u001b[0;32m      5\u001b[0m \u001b[0mprint\u001b[0m\u001b[1;33m(\u001b[0m\u001b[0mdam_idm_prices_files\u001b[0m\u001b[1;33m)\u001b[0m\u001b[1;33m\u001b[0m\u001b[1;33m\u001b[0m\u001b[0m\n",
      "\u001b[1;31mValueError\u001b[0m: list.remove(x): x not in list"
     ]
    }
   ],
   "source": [
    "dam_idm_prices_files =  [file for file in os.listdir(market_prices_dir) if os.path.isfile(os.path.join(market_prices_dir, file))]\n",
    "# dam_idm_prices_files.remove('desktop.ini')\n",
    "\n",
    "print(len(dam_idm_prices_files))\n",
    "print(dam_idm_prices_files)"
   ]
  },
  {
   "cell_type": "markdown",
   "metadata": {},
   "source": [
    "### Reading DAM prices"
   ]
  },
  {
   "cell_type": "code",
   "execution_count": null,
   "metadata": {
    "tags": []
   },
   "outputs": [],
   "source": [
    "file = 'price_DAM_IDM_01.2022.xls'\n",
    "print(file)\n",
    "\n",
    "sheet_name = 'Ціна_РДН_ОЕС_України'\n",
    "\n",
    "date = file[-11:-4]\n",
    "date = dt.datetime.strptime(date, '%m.%Y')\n",
    "\n",
    "data = pd.read_excel(market_prices_dir + file, sheet_name=sheet_name, header=None)\n",
    "data = data.drop(index=[0, 1, 2]).reset_index().drop(columns=['index', 0])\n",
    "squized = data.stack()\n",
    "print(squized)\n",
    "\n",
    "squized = squized.reset_index(level=[0,1])\n",
    "squized['level_0'] = squized['level_0'] + 1\n",
    "\n",
    "squized.columns = ['day', 'hour','dam_price']    \n",
    "squized = squized.astype({'day': 'int', 'hour': 'int', 'dam_price': 'float'})\n",
    "\n",
    "if date.month == 3:\n",
    "    #print('MONTH is MARCH!!!!')\n",
    "    dlst_day = march_dlst_days[date.year]\n",
    "    squized = squized.drop(squized[(squized.day == dlst_day) & (squized.hour == 24)].index)\n",
    "\n",
    "start = dt.datetime(year=date.year, month=date.month, day=1, hour=0, minute=30)\n",
    "\n",
    "last_month_day_calendar = calendar.monthrange(date.year, date.month)[-1]\n",
    "last_month_day_data = squized['day'].max()\n",
    "\n",
    "if last_month_day_data == last_month_day_calendar:\n",
    "    year = date.year\n",
    "    month = date.month + 1 \n",
    "    if month == 13:\n",
    "        month = 1\n",
    "        year = year + 1\n",
    "    end = dt.datetime(year=year, month=month, day=1, hour=0, minute=30) - dt.timedelta(hours=1)\n",
    "else:\n",
    "    end = dt.datetime(year=date.year, month=date.month, day=last_month_day_data + 1, hour=0, minute=30)\n",
    "    end = end - dt.timedelta(hours=1)\n",
    "\n",
    "#print(last_month_day_calendar, last_month_day_data)\n",
    "#print(start, end)\n",
    "\n",
    "index_in_kyiv = pd.date_range(start=start, end=end, freq='1H', tz='europe/kiev')\n",
    "index_in_utc = index_in_kyiv.tz_convert('utc').tz_localize(None)\n",
    "\n",
    "#print(squized.tail(52))\n",
    "\n",
    "squized.index = index_in_utc\n",
    "squized = squized.drop(columns=['day', 'hour'])\n",
    "\n",
    "dam_prices = squized\n",
    "\n",
    "#print(data.head(10))\n",
    "print(date)\n",
    "print('ok!')\n",
    "\n",
    "print(dam_prices)\n"
   ]
  },
  {
   "cell_type": "markdown",
   "metadata": {
    "tags": []
   },
   "source": [
    "### Reading IDM prices"
   ]
  },
  {
   "cell_type": "code",
   "execution_count": null,
   "metadata": {
    "tags": []
   },
   "outputs": [],
   "source": [
    "file = file\n",
    "print(file)\n",
    "\n",
    "sheet_name = 'Ціна_ВДР_ОЕС_України'\n",
    "\n",
    "idm_prices = dict()\n",
    "\n",
    "date = file[-11:-4]\n",
    "date = dt.datetime.strptime(date, '%m.%Y')\n",
    "\n",
    "data = pd.read_excel(market_prices_dir + file, sheet_name=sheet_name, header=None)\n",
    "data = data.drop(index=[0, 1, 2]).reset_index().drop(columns=['index', 0])\n",
    "\n",
    "#data['datetime'] = dt.datetime(year=date.year, month=date.month, day=data[0])\n",
    "squized = data.stack()\n",
    "\n",
    "squized = squized.reset_index(level=[0,1])\n",
    "squized['level_0'] = squized['level_0'] + 1\n",
    "\n",
    "squized.columns = ['day', 'hour','idm_price']    \n",
    "squized = squized.astype({'day': 'int', 'hour': 'int', 'idm_price': 'float'})\n",
    "\n",
    "if date.month == 3:\n",
    "    #print('MONTH is MARCH!!!!')\n",
    "    dlst_day = march_dlst_days[date.year]\n",
    "    squized = squized.drop(squized[(squized.day == dlst_day) & (squized.hour == 24)].index)\n",
    "\n",
    "start = dt.datetime(year=date.year, month=date.month, day=1, hour=0, minute=30)\n",
    "\n",
    "last_month_day_calendar = calendar.monthrange(date.year, date.month)[-1]\n",
    "last_month_day_data = squized['day'].max()\n",
    "\n",
    "if last_month_day_data == last_month_day_calendar:\n",
    "    year = date.year\n",
    "    month = date.month + 1 \n",
    "    if month == 13:\n",
    "        month = 1\n",
    "        year = year + 1\n",
    "    end = dt.datetime(year=year, month=month, day=1, hour=0, minute=30) - dt.timedelta(hours=1)\n",
    "else:\n",
    "    end = dt.datetime(year=date.year, month=date.month, day=last_month_day_data + 1, hour=0, minute=30)\n",
    "    end = end - dt.timedelta(hours=1)\n",
    "\n",
    "index_in_kyiv = pd.date_range(start=start, end=end, freq='1H', tz='europe/kiev')\n",
    "index_in_utc = index_in_kyiv.tz_convert('utc').tz_localize(None)\n",
    "\n",
    "#print(squized.tail(52))\n",
    "\n",
    "squized.index = index_in_utc\n",
    "squized = squized.drop(columns=['day', 'hour'])\n",
    "\n",
    "idm_prices = squized\n",
    "#print(data.head(10))\n",
    "print(date)\n",
    "print('ok!')\n",
    "\n",
    "print(idm_prices)"
   ]
  },
  {
   "cell_type": "code",
   "execution_count": null,
   "metadata": {},
   "outputs": [],
   "source": [
    "ub_prices_files =  [file for file in os.listdir(unbalance_prices_dir) if os.path.isfile(os.path.join(unbalance_prices_dir, file))]\n",
    "ub_prices_files.remove('desktop.ini')\n",
    "\n",
    "print(ub_prices_files)"
   ]
  },
  {
   "cell_type": "markdown",
   "metadata": {},
   "source": [
    "### Reading IMSP prices"
   ]
  },
  {
   "cell_type": "code",
   "execution_count": null,
   "metadata": {
    "tags": []
   },
   "outputs": [],
   "source": [
    "file = 'Faktychni-tsiny-nebalansiv-01-18.01.2022.xlsx'\n",
    "print(file)\n",
    "\n",
    "sheet_name = 'Аркуш1'\n",
    "\n",
    "ub_prices = dict()\n",
    "    \n",
    "date = file[-12:-5]\n",
    "date = dt.datetime.strptime(date, '%m.%Y')\n",
    "\n",
    "data = pd.read_excel(unbalance_prices_dir + file, index_col=[0, 1], usecols=[0, 1, 2], header=0, skiprows=[1, 2], parse_dates=[0])\n",
    "data.columns = ['imsp']\n",
    "data = data.astype({'imsp': 'float'})\n",
    "time_deltas = [dt.timedelta(hours=int(record[-1][:2]), minutes=30) for record in data.index.values]\n",
    "data.index = [record[0] + dt.timedelta(hours=int(record[-1][:2]), minutes=30) for record in data.index.values]\n",
    "data.dropna(inplace=True)\n",
    "\n",
    "if date.month == 3:\n",
    "    print('MONTH is MARCH!!!!')\n",
    "    dlst_day = march_dlst_days[date.year]\n",
    "    print(dlst_day)\n",
    "    #print(data)\n",
    "    #print(data[(data.index.day == dlst_day) & (data.index.hour == 23)].index)\n",
    "    #data = data.drop(data[(data.index.day == dlst_day) & (data.index.hour == 23)].index)\n",
    "    #print(data)\n",
    "\n",
    "#print(squized.tail(52))\n",
    "\n",
    "\n",
    "start = dt.datetime(year=date.year, month=date.month, day=1, hour=0, minute=30)\n",
    "\n",
    "last_month_day_calendar = calendar.monthrange(date.year, date.month)[-1]\n",
    "last_month_day_data = data.index.day.max()\n",
    "\n",
    "if last_month_day_data == last_month_day_calendar:\n",
    "    year = date.year\n",
    "    month = date.month + 1 \n",
    "    if month == 13:\n",
    "        month = 1\n",
    "        year = year + 1\n",
    "    end = dt.datetime(year=year, month=month, day=1, hour=0, minute=30) - dt.timedelta(hours=1)\n",
    "else:\n",
    "    end = dt.datetime(year=date.year, month=date.month, day=last_month_day_data, hour=23, minute=30)\n",
    "\n",
    "#print(last_month_day_calendar, last_month_day_data)\n",
    "#print(start, end)\n",
    "\n",
    "index_in_kyiv = pd.date_range(start=start, end=end, freq='1H', tz='europe/kiev')\n",
    "index_in_utc = index_in_kyiv.tz_convert('utc').tz_localize(None)\n",
    "\n",
    "#print(squized.tail(52))\n",
    "\n",
    "data.index = index_in_utc\n",
    "\n",
    "ub_prices = data\n",
    "\n",
    "print(date)\n",
    "print('Ok!')\n",
    "\n",
    "print(ub_prices)\n"
   ]
  },
  {
   "cell_type": "markdown",
   "metadata": {},
   "source": [
    "### Preparing intersected data"
   ]
  },
  {
   "cell_type": "code",
   "execution_count": null,
   "metadata": {},
   "outputs": [],
   "source": [
    "print(dam_prices.shape)\n",
    "print(idm_prices.shape)\n",
    "print(ub_prices.shape)"
   ]
  },
  {
   "cell_type": "code",
   "execution_count": null,
   "metadata": {},
   "outputs": [],
   "source": [
    "print(dam_prices.loc[dam_prices.index.duplicated(keep='first')])\n",
    "print(idm_prices.loc[idm_prices.index.duplicated(keep='first')])\n",
    "print(ub_prices.loc[ub_prices.index.duplicated(keep='first')])"
   ]
  },
  {
   "cell_type": "code",
   "execution_count": null,
   "metadata": {
    "tags": []
   },
   "outputs": [],
   "source": [
    "prices = pd.concat([dam_prices, idm_prices, ub_prices], join='outer', axis=1)\n",
    "prices = prices.dropna()\n",
    "prices.index.name = 'datetime'\n",
    "\n",
    "prices['positive_ub_price'] = (prices[['dam_price', 'imsp']].min(axis=1) * (1 - 0.05)).apply(lambda x: round(x, 2))\n",
    "prices['negative_ub_price'] = (prices[['dam_price', 'imsp']].max(axis=1) * (1 + 0.05)).apply(lambda x: round(x, 2))\n",
    "print(prices)\n",
    "#prices['idm_price'] = idm_prices_1\n",
    "#prices['imsp_price'] = ub_prices_1\n",
    "\n",
    "#prices = dam_prices_1.merge(idm_prices_1, left_index=True, right_index=True).merge(ub_prices_1, left_index=True, right_index=True)\n",
    "# prices.to_excel('prices.xlsx')\n",
    "print('Ok!')\n",
    "print(prices.info())\n",
    "print(prices)"
   ]
  },
  {
   "cell_type": "code",
   "execution_count": null,
   "metadata": {
    "tags": []
   },
   "outputs": [],
   "source": []
  },
  {
   "cell_type": "markdown",
   "metadata": {},
   "source": [
    "### Putting data into database"
   ]
  },
  {
   "cell_type": "code",
   "execution_count": null,
   "metadata": {},
   "outputs": [],
   "source": [
    "from sqlalchemy import create_engine, MetaData, desc\n",
    "from sqlalchemy.sql import select, insert, update, and_, or_, not_, func\n",
    "from sqlalchemy.pool import NullPool\n",
    "from settings.db import DO_URL\n",
    "\n",
    "\n",
    "engine = create_engine(DO_URL, poolclass=NullPool)\n",
    "metadata = MetaData()\n",
    "metadata.reflect(bind=engine)\n",
    "\n",
    "with engine.connect() as connection:\n",
    "\n",
    "    emp_table = metadata.tables['electricity_market_prices']\n",
    "    query_1 = select([emp_table.c.id, emp_table.c.completed]).where(and_(emp_table.c.year == date.year, emp_table.c.month == date.month))\n",
    "    complete_period = prices.index.max().day == calendar.monthrange(date.year, date.month)[1]\n",
    "    record_to_update = connection.execute(query_1).fetchall()\n",
    "    print(record_to_update)\n",
    "    if record_to_update:\n",
    "        if not record_to_update[0][1]:\n",
    "            update_statement = emp_table.update().values((record_to_update[0][0], date.year, date.month, \n",
    "                                                      list(prices.index), \n",
    "                                                      list(prices.dam_price), \n",
    "                                                      list(prices.idm_price), \n",
    "                                                      list(prices.imsp),\n",
    "                                                      list(prices.positive_ub_price),\n",
    "                                                      list(prices.negative_ub_price),\n",
    "                                                      complete_period)).where(emp_table.c.id == record_to_update[0][0])\n",
    "            updated_id = connection.execute(update_statement)\n",
    "            print('Database record updated!')\n",
    "        else:\n",
    "            print('Not updated! Record already completed!')\n",
    "    else:\n",
    "        query_2 = select([func.max(emp_table.c.id)])\n",
    "        max_id = connection.execute(query_2).fetchall()\n",
    "        print(max_id)\n",
    "        max_id = max_id[0][0] + 1 if max_id else 1\n",
    "        print(max_id)\n",
    "\n",
    "        insert_statement = emp_table.insert().values((max_id, date.year, date.month, \n",
    "                                                      list(prices.index), \n",
    "                                                      list(prices.dam_price), \n",
    "                                                      list(prices.idm_price), \n",
    "                                                      list(prices.imsp),\n",
    "                                                      list(prices.positive_ub_price),\n",
    "                                                      list(prices.negative_ub_price),\n",
    "                                                      complete_period))\n",
    "        inserted_id = connection.execute(insert_statement)\n",
    "        print('Data inserted to database at index {}'.format(inserted_id))"
   ]
  }
 ],
 "metadata": {
  "interpreter": {
   "hash": "b3ba2566441a7c06988d0923437866b63cedc61552a5af99d1f4fb67d367b25f"
  },
  "kernelspec": {
   "display_name": "Python 3.8.8 64-bit ('base': conda)",
   "name": "python3"
  },
  "language_info": {
   "codemirror_mode": {
    "name": "ipython",
    "version": 3
   },
   "file_extension": ".py",
   "mimetype": "text/x-python",
   "name": "python",
   "nbconvert_exporter": "python",
   "pygments_lexer": "ipython3",
   "version": "3.8.8"
  }
 },
 "nbformat": 4,
 "nbformat_minor": 2
}
