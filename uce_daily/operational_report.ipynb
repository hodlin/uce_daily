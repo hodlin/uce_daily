{
 "cells": [
  {
   "cell_type": "code",
   "execution_count": null,
   "metadata": {},
   "outputs": [],
   "source": [
    "import os\n",
    "import datetime as dt\n",
    "import time\n",
    "import pytz\n",
    "import pandas as pd\n",
    "\n",
    "from uce_resources import get_site_id, get_mms_data"
   ]
  },
  {
   "cell_type": "code",
   "execution_count": null,
   "metadata": {},
   "outputs": [],
   "source": [
    "from settings.sites import ceg as sites_list\n",
    "\n",
    "target_year = 2022\n",
    "target_month = 4\n",
    "\n",
    "target_folder = 'data/operation_report/'\n",
    "if not os.path.exists(target_folder):\n",
    "    os.makedirs(target_folder)\n",
    "\n",
    "sites_list = ['Pohrebyshche', 'Bilashky', \n",
    "                'Bar', 'Balky', 'Verkhivka', 'Kopaihorod', 'Stanislavchyk', 'Sharhorod_1', 'Hnatkiv', 'Porohy',\n",
    "                'Hlybochok_1', 'Hlybochok_2.1', 'Hlybochok_2.2', 'Cherniatka','Chechelnyk_1', 'Chechelnyk_2',\n",
    "                'Komyshany_1', 'Komyshany_2', 'Bilozerka', 'Myroliubivka', 'Kyselivka',\n",
    "                'Oleshky_1', 'Oleshky_2', 'Poniativka', 'Kostohryzove', \n",
    "                'Veliton', 'Velihen', \n",
    "                'Mykolaivka', 'Rubanivka', 'Mala_Lepetykha', 'Kachkarivka', \n",
    "                'Liubymivka', 'Vasylivka',\n",
    "                'Dibrovka', 'Yelanets_1', 'Yelanets_2', \n",
    "                'Afanasiivka', 'Novokondakove', 'Bazaltova', 'Inhulets_1', 'Inhulets_2', 'Bereznehuvate', \n",
    "                'Teplychna', \n",
    "                'Balivka', 'Solone', 'Stepnohirsk', \n",
    "                'Kulevcha']\n",
    "sites_data = dict.fromkeys(sites_list)\n",
    "print(sites_data)"
   ]
  },
  {
   "cell_type": "code",
   "execution_count": null,
   "metadata": {},
   "outputs": [],
   "source": [
    "from sqlalchemy import create_engine, MetaData\n",
    "from sqlalchemy.pool import NullPool\n",
    "from settings.db import DO_URL\n",
    "\n",
    "engine = create_engine(DO_URL, poolclass=NullPool)\n",
    "metadata = MetaData()\n",
    "metadata.reflect(bind=engine)"
   ]
  },
  {
   "cell_type": "code",
   "execution_count": null,
   "metadata": {},
   "outputs": [],
   "source": [
    "with engine.connect() as connection:\n",
    "\n",
    "    yield_list = list()\n",
    "    consumption_list = list()\n",
    "\n",
    "    for site in sites_data.keys():\n",
    "        start = time.time()\n",
    "        print('-'*50)\n",
    "        print(site)\n",
    "        site_data = dict()\n",
    "        site_data['site'] = site\n",
    "        site_data['site_id'], site_data['legal_entity'] = get_site_id(site, connection, \n",
    "                                                                      metadata.tables['sites'],\n",
    "                                                                      include_legal_entity_id=True)\n",
    "        mms=pd.DataFrame()\n",
    "   \n",
    "\n",
    "        mms_data, site_data['mms_version'] = get_mms_data(site_data['site_id'], \n",
    "                                                        target_year, target_month, \n",
    "                                                        connection, metadata.tables['mms_data'], include_prev=False)\n",
    "        mms_data.index = mms_data.index.tz_localize(pytz.utc).tz_convert(pytz.timezone('europe/kiev'))\n",
    "        # print(mms_data)\n",
    "        mms_data_yield = mms_data.loc[mms_data['yield [kWh]'] >= 0].resample('1D').sum()\n",
    "        mms_data_consumption = mms_data.loc[mms_data['yield [kWh]'] < 0].resample('1D').sum()\n",
    "\n",
    "        mms_data_yield.index = mms_data_yield.index.date\n",
    "        mms_data_consumption.index = mms_data_consumption.index.date\n",
    "\n",
    "        mms_data_yield = mms_data_yield.T\n",
    "        mms_data_consumption = mms_data_consumption.T\n",
    "        mms_data_yield.index.name = 'site'\n",
    "        mms_data_yield.index = [site]\n",
    "        mms_data_consumption.index = [site]\n",
    "\n",
    "        yield_list.append(mms_data_yield)\n",
    "        consumption_list.append(mms_data_consumption)\n",
    "        print('Ok!')\n",
    "    \n",
    "    generation = pd.concat(yield_list)\n",
    "    consumption = pd.concat(consumption_list)\n",
    "\n",
    "    generation.to_excel(target_folder + f'generation_{target_year}_{target_month}.xlsx')\n",
    "    consumption.to_excel(target_folder + f'consumption_{target_year}_{target_month}.xlsx')\n",
    "\n",
    "    # print(generation)"
   ]
  }
 ],
 "metadata": {
  "interpreter": {
   "hash": "791b94ef1c920df7aa328568b305f7d9bc5743b8b96eb160dd8037bdf207fe04"
  },
  "kernelspec": {
   "display_name": "Python 3.7.11 64-bit ('uce_daily': conda)",
   "name": "python3"
  },
  "language_info": {
   "codemirror_mode": {
    "name": "ipython",
    "version": 3
   },
   "file_extension": ".py",
   "mimetype": "text/x-python",
   "name": "python",
   "nbconvert_exporter": "python",
   "pygments_lexer": "ipython3",
   "version": "3.8.12"
  },
  "orig_nbformat": 4
 },
 "nbformat": 4,
 "nbformat_minor": 2
}
