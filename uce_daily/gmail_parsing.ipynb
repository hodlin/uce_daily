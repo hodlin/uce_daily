{
 "cells": [
  {
   "cell_type": "code",
   "execution_count": null,
   "metadata": {},
   "outputs": [],
   "source": [
    "from gmail_parsing import main"
   ]
  },
  {
   "cell_type": "code",
   "execution_count": null,
   "metadata": {},
   "outputs": [],
   "source": [
    "# Getting HARPOK emails\n",
    "args = {'sender':'vad@gpee.com.ua', 'target_folder':'data/gmail_parsing/harpok/'}\n",
    "\n",
    "main(**args)"
   ]
  },
  {
   "cell_type": "code",
   "execution_count": null,
   "metadata": {},
   "outputs": [],
   "source": [
    "# Getting KVITKOVSKA emails\n",
    "args = {'sender':'Kvitkovska.SY@ua.energy', 'target_folder':'data/gmail_parsing/ukrenerho/'}\n",
    "\n",
    "main(**args)"
   ]
  },
  {
   "cell_type": "code",
   "execution_count": null,
   "metadata": {},
   "outputs": [],
   "source": [
    "# Getting DOBROVOLSKA emails\n",
    "args = {'sender':'Dobrovolska.OV@ua.energy', 'target_folder':'data/gmail_parsing/ukrenerho/'}\n",
    "\n",
    "main(**args)"
   ]
  },
  {
   "cell_type": "code",
   "execution_count": null,
   "metadata": {},
   "outputs": [],
   "source": [
    "# Getting KSOE emails\n",
    "args = {'sender':'noreply@co.ksoe.com.ua', 'target_folder':'data/gmail_parsing/ksoe/'}\n",
    "\n",
    "main(**args)"
   ]
  }
 ],
 "metadata": {
  "interpreter": {
   "hash": "086c78819d29cde2722290ef7b1822e29db9962e5a12d827023861b18bf338dd"
  },
  "kernelspec": {
   "display_name": "Python 3.8.12 ('uce_daily')",
   "language": "python",
   "name": "python3"
  },
  "language_info": {
   "codemirror_mode": {
    "name": "ipython",
    "version": 3
   },
   "file_extension": ".py",
   "mimetype": "text/x-python",
   "name": "python",
   "nbconvert_exporter": "python",
   "pygments_lexer": "ipython3",
   "version": "3.8.12"
  },
  "orig_nbformat": 4
 },
 "nbformat": 4,
 "nbformat_minor": 2
}
