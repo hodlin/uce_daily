{
 "cells": [
  {
   "cell_type": "code",
   "execution_count": null,
   "metadata": {},
   "outputs": [],
   "source": [
    "from gmail_parsing import main"
   ]
  },
  {
   "cell_type": "code",
   "execution_count": null,
   "metadata": {},
   "outputs": [],
   "source": [
    "# Getting HARPOK emails\n",
    "args = {'sender':'vad@gpee.com.ua', 'target_folder':'data/gmail_parsing/harpok/'}\n",
    "\n",
    "main(**args)"
   ]
  },
  {
   "cell_type": "code",
   "execution_count": null,
   "metadata": {},
   "outputs": [],
   "source": [
    "# Getting KVITKOVSKA emails\n",
    "args = {'sender':'Kvitkovska.SY@ua.energy', 'target_folder':'data/gmail_parsing/ukrenerho/'}\n",
    "\n",
    "main(**args)"
   ]
  },
  {
   "cell_type": "code",
   "execution_count": null,
   "metadata": {},
   "outputs": [],
   "source": [
    "# Getting DOBROVOLSKA emails\n",
    "args = {'sender':'Dobrovolska.OV@ua.energy', 'target_folder':'data/gmail_parsing/ukrenerho/'}\n",
    "\n",
    "main(**args)"
   ]
  },
  {
   "cell_type": "code",
   "execution_count": null,
   "metadata": {},
   "outputs": [],
   "source": [
    "# Getting KSOE emails\n",
    "args = {'sender':'noreply@co.ksoe.com.ua', 'target_folder':'data/gmail_parsing/ksoe/'}\n",
    "\n",
    "main(**args)"
   ]
  }
 ],
 "metadata": {
  "kernelspec": {
   "display_name": "Python 3.7.11 ('uce_daily')",
   "language": "python",
   "name": "python3"
  },
  "language_info": {
   "codemirror_mode": {
    "name": "ipython",
    "version": 3
   },
   "file_extension": ".py",
   "mimetype": "text/x-python",
   "name": "python",
   "nbconvert_exporter": "python",
   "pygments_lexer": "ipython3",
   "version": "3.7.11"
  },
  "orig_nbformat": 4,
  "vscode": {
   "interpreter": {
    "hash": "9f6094ec2d56ebdaae3d9c77f7ab32436394f8c6f1a90f5df9f6a393f513a0f8"
   }
  }
 },
 "nbformat": 4,
 "nbformat_minor": 2
}
