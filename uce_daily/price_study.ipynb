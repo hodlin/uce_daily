{
 "cells": [
  {
   "cell_type": "code",
   "execution_count": 12,
   "metadata": {},
   "outputs": [
    {
     "name": "stdout",
     "output_type": "stream",
     "text": [
      "['prices_2021_10_1-31.xlsx', 'prices_2021_11_1-30.xlsx', 'prices_2021_12_1-31.xlsx', 'prices_2021_1_1-31.xlsx', 'prices_2021_2_1-28.xlsx', 'prices_2021_3_1-31.xlsx', 'prices_2021_4_1-30.xlsx', 'prices_2021_5_1-31.xlsx', 'prices_2021_6_1-30.xlsx', 'prices_2021_7_1-31.xlsx', 'prices_2021_8_1-31.xlsx', 'prices_2021_9_1-30.xlsx', 'prices_2022_10_1-31.xlsx', 'prices_2022_11_1-30.xlsx', 'prices_2022_12_1-31.xlsx', 'prices_2022_1_1-31.xlsx', 'prices_2022_2_1-28.xlsx', 'prices_2022_3_1-31.xlsx', 'prices_2022_4_1-30.xlsx', 'prices_2022_5_1-31.xlsx', 'prices_2022_6_1-30.xlsx', 'prices_2022_7_1-31.xlsx', 'prices_2022_8_1-31.xlsx', 'prices_2022_9_1-30.xlsx']\n"
     ]
    }
   ],
   "source": [
    "import os\n",
    "import pandas as pd\n",
    "\n",
    "target_folder = 'data/results/prices_study/'\n",
    "files = os.listdir(target_folder)  \n",
    "print(files)"
   ]
  },
  {
   "cell_type": "code",
   "execution_count": 35,
   "metadata": {},
   "outputs": [
    {
     "name": "stdout",
     "output_type": "stream",
     "text": [
      "                    date      dam     imsp  positive_unbalance  \\\n",
      "2209 2020-12-31 22:30:00  0.55700  0.30635            0.291033   \n",
      "2210 2020-12-31 23:30:00  0.59900  0.32945            0.312978   \n",
      "2211 2021-01-01 00:30:00  0.59900  0.32945            0.312978   \n",
      "2212 2021-01-01 01:30:00  0.59627  0.32795            0.311553   \n",
      "2213 2021-01-01 02:30:00  0.59627  0.32795            0.311553   \n",
      "2214 2021-01-01 03:30:00  0.59627  0.32795            0.311553   \n",
      "2215 2021-01-01 04:30:00  0.55700  0.30635            0.291033   \n",
      "2216 2021-01-01 05:30:00  0.74800  0.41140            0.390830   \n",
      "2217 2021-01-01 06:30:00  0.76800  0.42240            0.401280   \n",
      "2218 2021-01-01 07:30:00  0.94000  0.51700            0.491150   \n",
      "\n",
      "      negative_unbalance  \n",
      "2209            0.584850  \n",
      "2210            0.628950  \n",
      "2211            0.628950  \n",
      "2212            0.626083  \n",
      "2213            0.626083  \n",
      "2214            0.626083  \n",
      "2215            0.584850  \n",
      "2216            0.785400  \n",
      "2217            0.806400  \n",
      "2218            0.987000  \n"
     ]
    }
   ],
   "source": [
    "## Method 1 gets the first sheet of a given file\n",
    "df = pd.DataFrame()\n",
    "\n",
    "excl_list = []\n",
    "\n",
    "for file in files:\n",
    "    if file.endswith(\".xlsx\"):\n",
    "        df1 = pd.read_excel(target_folder+file, index_col=False)\n",
    "        df = df.append(df1, ignore_index = True) \n",
    "        \n",
    "df = df.rename(columns={'Unnamed: 0': 'date'})\n",
    "df = df.sort_values(by=['date'])\n",
    "print(df.head(10))\n",
    "\n",
    "df.to_excel(target_folder+\"prices.xlsx\", index=False)"
   ]
  }
 ],
 "metadata": {
  "kernelspec": {
   "display_name": "Python 3.7.11 ('uce_daily')",
   "language": "python",
   "name": "python3"
  },
  "language_info": {
   "codemirror_mode": {
    "name": "ipython",
    "version": 3
   },
   "file_extension": ".py",
   "mimetype": "text/x-python",
   "name": "python",
   "nbconvert_exporter": "python",
   "pygments_lexer": "ipython3",
   "version": "3.7.11"
  },
  "orig_nbformat": 4,
  "vscode": {
   "interpreter": {
    "hash": "9f6094ec2d56ebdaae3d9c77f7ab32436394f8c6f1a90f5df9f6a393f513a0f8"
   }
  }
 },
 "nbformat": 4,
 "nbformat_minor": 2
}
